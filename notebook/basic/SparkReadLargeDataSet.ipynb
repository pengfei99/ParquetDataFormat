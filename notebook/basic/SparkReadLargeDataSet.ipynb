{
 "cells": [
  {
   "cell_type": "code",
   "execution_count": 2,
   "id": "54202684-2651-4f24-be4d-174a527ecc37",
   "metadata": {},
   "outputs": [],
   "source": [
    "from pyspark.sql import SparkSession,DataFrame\n",
    "import os\n",
    "import numpy as np\n",
    "from pyspark.sql import functions as f\n",
    "from pyspark.sql.types import *\n",
    "import io\n",
    "import time\n",
    "from pyspark.sql import Row"
   ]
  },
  {
   "cell_type": "code",
   "execution_count": 3,
   "id": "bd82b59b-ac0a-404f-ac34-efc1ccb86857",
   "metadata": {},
   "outputs": [
    {
     "name": "stderr",
     "output_type": "stream",
     "text": [
      "WARNING: An illegal reflective access operation has occurred\n",
      "WARNING: Illegal reflective access by org.apache.spark.unsafe.Platform (file:/opt/spark/jars/spark-unsafe_2.12-3.1.2.jar) to constructor java.nio.DirectByteBuffer(long,int)\n",
      "WARNING: Please consider reporting this to the maintainers of org.apache.spark.unsafe.Platform\n",
      "WARNING: Use --illegal-access=warn to enable warnings of further illegal reflective access operations\n",
      "WARNING: All illegal access operations will be denied in a future release\n",
      "2021-10-25 15:41:24,222 WARN util.NativeCodeLoader: Unable to load native-hadoop library for your platform... using builtin-java classes where applicable\n",
      "Setting default log level to \"WARN\".\n",
      "To adjust logging level use sc.setLogLevel(newLevel). For SparkR, use setLogLevel(newLevel).\n",
      "2021-10-25 15:41:25,260 WARN util.Utils: Service 'SparkUI' could not bind on port 4040. Attempting port 4041.\n"
     ]
    }
   ],
   "source": [
    "worker_image=\"inseefrlab/jupyter-datascience:py3.9.7-spark3.1.2\"\n",
    "\n",
    "local=False\n",
    "if local:\n",
    "    spark = SparkSession \\\n",
    "    .builder.master(\"local[4]\") \\\n",
    "    .appName(\"SparkReadLargeDataSet\") \\\n",
    "    .getOrCreate()\n",
    "else: \n",
    "    spark = SparkSession \\\n",
    "    .builder.master(\"k8s://https://kubernetes.default.svc:443\") \\\n",
    "    .appName(\"SparkReadLargeDataSet\") \\\n",
    "    .config(\"spark.kubernetes.container.image\", worker_image) \\\n",
    "    .config(\"spark.kubernetes.authenticate.driver.serviceAccountName\", os.environ['KUBERNETES_SERVICE_ACCOUNT']) \\\n",
    "    .config(\"spark.kubernetes.driver.pod.name\", os.environ['KUBERNETES_POD_NAME']) \\\n",
    "    .config(\"spark.executor.instances\", \"8\") \\\n",
    "    .config(\"spark.executor.memory\",\"8g\") \\\n",
    "    .config(\"spark.kubernetes.namespace\", os.environ['KUBERNETES_NAMESPACE']) \\\n",
    "    .getOrCreate()"
   ]
  },
  {
   "cell_type": "code",
   "execution_count": null,
   "id": "107d2eb9-b846-4c89-9504-196ee9039054",
   "metadata": {},
   "outputs": [],
   "source": [
    "spark.sparkContext.stop()"
   ]
  },
  {
   "cell_type": "code",
   "execution_count": 1,
   "id": "20873c96-6a46-4246-b7dc-43705069e148",
   "metadata": {},
   "outputs": [
    {
     "name": "stdout",
     "output_type": "stream",
     "text": [
      "I1025 15:40:59.898017    7750 request.go:665] Waited for 1.173933199s due to client-side throttling, not priority and fairness, request: GET:https://kubernetes.default/apis/discovery.k8s.io/v1beta1?timeout=32s\n",
      "NAME                                               READY   STATUS      RESTARTS   AGE\n",
      "amundsen-elasticsearch-master-0                    1/1     Running     0          5d5h\n",
      "amundsen-elasticsearch-master-1                    1/1     Running     0          5d5h\n",
      "amundsen-elasticsearch-master-2                    1/1     Running     0          5d5h\n",
      "amundsen-test-frontend-5648d65454-ffgpt            1/1     Running     0          5d5h\n",
      "amundsen-test-metadata-c57c47666-7bjsz             1/1     Running     0          5d5h\n",
      "amundsen-test-search-5c8455d784-g56vh              1/1     Running     0          5d5h\n",
      "datahub-datahub-frontend-6ff5494f44-7gcpx          1/1     Running     0          5d\n",
      "datahub-datahub-gms-5b66978446-g2526               1/1     Running     0          5d\n",
      "datahub-datahub-upgrade-job-spgg2                  0/1     Error       0          5d\n",
      "datahub-datahub-upgrade-job-vzb8g                  0/1     Completed   0          5d\n",
      "datahub-elasticsearch-setup-job-j2hhc              0/1     Completed   0          5d\n",
      "datahub-kafka-setup-job-knrjt                      0/1     Completed   0          5d\n",
      "datahub-mysql-setup-job-7tqzl                      0/1     Completed   0          5d\n",
      "elasticsearch-master-0                             1/1     Running     0          5d\n",
      "elasticsearch-master-1                             1/1     Running     0          5d\n",
      "elasticsearch-master-2                             1/1     Running     0          5d\n",
      "flume-test-agent-df8c5b944-vtjbx                   1/1     Running     0          36d\n",
      "jupyter-43074-6d44c5d9cd-hpfhx                     1/1     Running     0          3h55m\n",
      "neo4j-84cc979d5f-vjcc8                             1/1     Running     0          5d5h\n",
      "postgresql-583865-postgresql-0                     1/1     Running     0          7d5h\n",
      "prerequisites-cp-schema-registry-cf79bfccf-6hz6x   2/2     Running     1          5d\n",
      "prerequisites-kafka-0                              1/1     Running     2          5d\n",
      "prerequisites-mysql-0                              1/1     Running     0          5d\n",
      "prerequisites-neo4j-community-0                    1/1     Running     0          5d\n",
      "prerequisites-zookeeper-0                          1/1     Running     0          5d\n",
      "removeduplicates1-5878367cb75220f9-exec-1          1/1     Running     0          3h41m\n",
      "removeduplicates1-5878367cb75220f9-exec-2          1/1     Running     0          3h41m\n",
      "removeduplicates1-5878367cb75220f9-exec-3          1/1     Running     0          3h41m\n",
      "removeduplicates1-5878367cb75220f9-exec-4          1/1     Running     0          3h41m\n",
      "ubuntu-978925-6fc97f8db6-5bsgq                     1/1     Running     0          7d3h\n",
      "vscode-683279-675c7d8fdf-xqfmt                     1/1     Running     0          7d8h\n",
      "vscode-882919-7bbb5997d9-6dp7j                     1/1     Running     0          5d1h\n"
     ]
    }
   ],
   "source": [
    "! kubectl get pods"
   ]
  },
  {
   "cell_type": "code",
   "execution_count": 7,
   "id": "931dfacc-daab-4f61-ac5f-1cdbe43f930d",
   "metadata": {},
   "outputs": [],
   "source": [
    "data_path=\"s3a://pengfei/diffusion/data_format/ny_taxis/parquet/raw_2011_2012\""
   ]
  },
  {
   "cell_type": "code",
   "execution_count": null,
   "id": "745d0466-763e-42c0-8086-25f483b2a41c",
   "metadata": {},
   "outputs": [
    {
     "name": "stderr",
     "output_type": "stream",
     "text": [
      "[Stage 0:>                                                          (0 + 1) / 1]\r"
     ]
    }
   ],
   "source": [
    "df=spark.read.parquet(data_path)\n",
    "df.show()"
   ]
  },
  {
   "cell_type": "code",
   "execution_count": null,
   "id": "e197f6fc-a198-47b4-8e2f-3666540c2fae",
   "metadata": {},
   "outputs": [],
   "source": []
  }
 ],
 "metadata": {
  "kernelspec": {
   "display_name": "Python 3 (ipykernel)",
   "language": "python",
   "name": "python3"
  },
  "language_info": {
   "codemirror_mode": {
    "name": "ipython",
    "version": 3
   },
   "file_extension": ".py",
   "mimetype": "text/x-python",
   "name": "python",
   "nbconvert_exporter": "python",
   "pygments_lexer": "ipython3",
   "version": "3.9.7"
  }
 },
 "nbformat": 4,
 "nbformat_minor": 5
}
