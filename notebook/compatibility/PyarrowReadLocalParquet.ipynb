{
 "cells": [
  {
   "cell_type": "code",
   "execution_count": 7,
   "id": "d27a16e8-bb75-46ad-b85b-d54761c6b62a",
   "metadata": {},
   "outputs": [],
   "source": [
    "import pyarrow.parquet as pq\n",
    "from pyarrow import fs\n",
    "import pyarrow as pa\n",
    "import pandas"
   ]
  },
  {
   "cell_type": "code",
   "execution_count": 2,
   "id": "e9683a9f-d55c-4d80-b7fc-9ef1d672706a",
   "metadata": {},
   "outputs": [],
   "source": [
    "file_path = \"/home/onyxia/work/test.parquet\""
   ]
  },
  {
   "cell_type": "code",
   "execution_count": null,
   "id": "59aed93a-0e84-4052-89df-533ecb814a4c",
   "metadata": {},
   "outputs": [],
   "source": [
    "## Read parquet file "
   ]
  },
  {
   "cell_type": "code",
   "execution_count": 4,
   "id": "a9a870c7-a31c-4b66-b19c-8856bddc4707",
   "metadata": {},
   "outputs": [],
   "source": [
    "# use arrow to read the parquet file\n",
    "arrow_table = pq.read_table(file_path)\n",
    "\n",
    "# convert arrow table to pandas dataframe\n",
    "pdf = arrow_table.to_pandas()"
   ]
  },
  {
   "cell_type": "code",
   "execution_count": 5,
   "id": "46092b34-2977-4f7b-aa82-aae2fe2650a7",
   "metadata": {},
   "outputs": [
    {
     "data": {
      "text/html": [
       "<div>\n",
       "<style scoped>\n",
       "    .dataframe tbody tr th:only-of-type {\n",
       "        vertical-align: middle;\n",
       "    }\n",
       "\n",
       "    .dataframe tbody tr th {\n",
       "        vertical-align: top;\n",
       "    }\n",
       "\n",
       "    .dataframe thead th {\n",
       "        text-align: right;\n",
       "    }\n",
       "</style>\n",
       "<table border=\"1\" class=\"dataframe\">\n",
       "  <thead>\n",
       "    <tr style=\"text-align: right;\">\n",
       "      <th></th>\n",
       "      <th>user_id</th>\n",
       "      <th>rating</th>\n",
       "      <th>date</th>\n",
       "    </tr>\n",
       "  </thead>\n",
       "  <tbody>\n",
       "    <tr>\n",
       "      <th>0</th>\n",
       "      <td>1488844</td>\n",
       "      <td>3</td>\n",
       "      <td>2005-09-06</td>\n",
       "    </tr>\n",
       "    <tr>\n",
       "      <th>1</th>\n",
       "      <td>822109</td>\n",
       "      <td>5</td>\n",
       "      <td>2005-05-13</td>\n",
       "    </tr>\n",
       "    <tr>\n",
       "      <th>2</th>\n",
       "      <td>885013</td>\n",
       "      <td>4</td>\n",
       "      <td>2005-10-19</td>\n",
       "    </tr>\n",
       "    <tr>\n",
       "      <th>3</th>\n",
       "      <td>30878</td>\n",
       "      <td>4</td>\n",
       "      <td>2005-12-26</td>\n",
       "    </tr>\n",
       "    <tr>\n",
       "      <th>4</th>\n",
       "      <td>823519</td>\n",
       "      <td>3</td>\n",
       "      <td>2004-05-03</td>\n",
       "    </tr>\n",
       "  </tbody>\n",
       "</table>\n",
       "</div>"
      ],
      "text/plain": [
       "   user_id rating        date\n",
       "0  1488844      3  2005-09-06\n",
       "1   822109      5  2005-05-13\n",
       "2   885013      4  2005-10-19\n",
       "3    30878      4  2005-12-26\n",
       "4   823519      3  2004-05-03"
      ]
     },
     "execution_count": 5,
     "metadata": {},
     "output_type": "execute_result"
    }
   ],
   "source": [
    "# show the first 5 row\n",
    "pdf.head()"
   ]
  },
  {
   "cell_type": "code",
   "execution_count": null,
   "id": "ff43efc2-b712-422f-a85c-b394edfcdd04",
   "metadata": {},
   "outputs": [],
   "source": [
    "## Write parquet file"
   ]
  },
  {
   "cell_type": "code",
   "execution_count": 8,
   "id": "82b475b9-4e39-4919-915c-14dec695de53",
   "metadata": {},
   "outputs": [],
   "source": [
    "# convert pandas dataframe to arrow table\n",
    "new_table = pa.Table.from_pandas(pdf)"
   ]
  },
  {
   "cell_type": "code",
   "execution_count": null,
   "id": "25560495-946e-47d7-b315-c4abc132fef1",
   "metadata": {},
   "outputs": [],
   "source": [
    "# write arrow table to a parquet file\n",
    "pq.write_table(new_table, 'new_fil.parquet')"
   ]
  }
 ],
 "metadata": {
  "kernelspec": {
   "display_name": "Python 3 (ipykernel)",
   "language": "python",
   "name": "python3"
  },
  "language_info": {
   "codemirror_mode": {
    "name": "ipython",
    "version": 3
   },
   "file_extension": ".py",
   "mimetype": "text/x-python",
   "name": "python",
   "nbconvert_exporter": "python",
   "pygments_lexer": "ipython3",
   "version": "3.10.13"
  }
 },
 "nbformat": 4,
 "nbformat_minor": 5
}
