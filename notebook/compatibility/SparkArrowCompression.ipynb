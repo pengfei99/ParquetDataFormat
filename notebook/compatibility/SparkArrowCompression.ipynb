{
 "cells": [
  {
   "cell_type": "markdown",
   "metadata": {},
   "source": [
    "# Spark Arrow compression test \n",
    "In this section, we use spark and arrow to output parquet files with different compression algo."
   ]
  },
  {
   "cell_type": "code",
   "execution_count": 1,
   "metadata": {},
   "outputs": [],
   "source": [
    "from pyspark.sql import SparkSession,DataFrame\n",
    "import os\n",
    "import numpy as np\n",
    "from pyspark.sql import functions as f\n",
    "from pyspark.sql.types import *\n",
    "import io\n",
    "import time\n",
    "from pyspark.sql import Row\n"
   ]
  },
  {
   "cell_type": "code",
   "execution_count": 4,
   "metadata": {},
   "outputs": [],
   "source": [
    "local=True\n",
    "# spark.rpc.message.maxSize if for write large csv file. The default value is 128, here we set it to 1024\n",
    "if local:\n",
    "    spark = SparkSession \\\n",
    "    .builder.master(\"local[4]\") \\\n",
    "    .appName(\"SparkArrowCompression\") \\\n",
    "    .getOrCreate()\n",
    "else: \n",
    "    spark = SparkSession \\\n",
    "    .builder.master(\"k8s://https://kubernetes.default.svc:443\") \\\n",
    "    .appName(\"SparkArrowCompression\") \\\n",
    "    .config(\"spark.kubernetes.container.image\", \"inseefrlab/jupyter-datascience:master\") \\\n",
    "    .config(\"spark.kubernetes.authenticate.driver.serviceAccountName\", os.environ['KUBERNETES_SERVICE_ACCOUNT']) \\\n",
    "    .config(\"spark.executor.instances\", \"4\") \\\n",
    "    .config(\"spark.executor.memory\",\"8g\") \\\n",
    "    .config(\"spark.kubernetes.namespace\", os.environ['KUBERNETES_NAMESPACE']) \\\n",
    "    .getOrCreate()"
   ]
  },
  {
   "cell_type": "code",
   "execution_count": 3,
   "metadata": {},
   "outputs": [],
   "source": [
    "spark.sparkContext.stop()"
   ]
  },
  {
   "cell_type": "code",
   "execution_count": 4,
   "metadata": {},
   "outputs": [
    {
     "name": "stdout",
     "output_type": "stream",
     "text": [
      "I0928 08:32:08.076453     891 request.go:655] Throttling request took 1.172859018s, request: GET:https://kubernetes.default/apis/certificates.k8s.io/v1beta1?timeout=32s\n",
      "NAME                                            READY   STATUS        RESTARTS   AGE\n",
      "flume-test-agent-df8c5b944-vtjbx                1/1     Running       0          8d\n",
      "jupyter-14458-56c69685d-pshm9                   1/1     Running       0          25h\n",
      "jupyter-266220-5bf4b859f8-wfkz6                 1/1     Running       0          58m\n",
      "kafka-server-0                                  1/1     Running       0          8d\n",
      "kafka-server-1                                  1/1     Running       0          8d\n",
      "kafka-server-2                                  1/1     Running       0          8d\n",
      "kafka-server-zookeeper-0                        1/1     Running       0          8d\n",
      "sparkarrowcompression-4a9eae7c2b881a56-exec-2   0/1     Terminating   0          17s\n",
      "sparkarrowcompression-4a9eae7c2b881a56-exec-4   0/1     Terminating   0          17s\n",
      "sparkarrowcompression-77efdb7c26eb6e0b-exec-1   1/1     Running       0          21h\n",
      "sparkarrowcompression-77efdb7c26eb6e0b-exec-2   1/1     Running       0          21h\n",
      "sparkarrowcompression-77efdb7c26eb6e0b-exec-3   1/1     Running       0          21h\n",
      "sparkarrowcompression-77efdb7c26eb6e0b-exec-4   1/1     Running       0          21h\n"
     ]
    }
   ],
   "source": [
    "! kubectl get pods"
   ]
  },
  {
   "cell_type": "code",
   "execution_count": 40,
   "metadata": {},
   "outputs": [
    {
     "name": "stdout",
     "output_type": "stream",
     "text": [
      "I0927 11:02:42.595871    1302 request.go:655] Throttling request took 1.171717446s, request: GET:https://kubernetes.default/apis/admissionregistration.k8s.io/v1beta1?timeout=32s\n",
      "I0927 11:02:46.336856    1334 request.go:655] Throttling request took 1.169242263s, request: GET:https://kubernetes.default/apis/admissionregistration.k8s.io/v1beta1?timeout=32s\n",
      "pod \"sparkarrowcompression-54e6b27c17dae4b3-exec-1\" deleted\n",
      "pod \"sparkarrowcompression-54e6b27c17dae4b3-exec-2\" deleted\n",
      "pod \"sparkarrowcompression-54e6b27c17dae4b3-exec-3\" deleted\n",
      "pod \"sparkarrowcompression-54e6b27c17dae4b3-exec-4\" deleted\n"
     ]
    }
   ],
   "source": [
    "! kubectl get pods | grep Error | awk '{print $1}' | xargs kubectl delete pods"
   ]
  },
  {
   "cell_type": "code",
   "execution_count": 5,
   "metadata": {},
   "outputs": [],
   "source": [
    "parquet_input_path = \"s3a://pengfei/diffusion/data_format/sf_fire/parquet/raw\"\n",
    "compress_output_path = \"s3a://pengfei/diffusion/data_format/sf_fire/parquet\"\n",
    "output_path=\"s3a://pengfei/diffusion/data_format/spark_netflix/\"\n",
    "csv_input_path=\"s3a://pengfei/diffusion/data_format/ny_taxis/csv\""
   ]
  },
  {
   "cell_type": "code",
   "execution_count": 52,
   "metadata": {},
   "outputs": [
    {
     "name": "stdout",
     "output_type": "stream",
     "text": [
      "['CallNumber', 'UnitID', 'IncidentNumber', 'CallType', 'CallDate', 'WatchDate', 'ReceivedDtTm', 'EntryDtTm', 'DispatchDtTm', 'ResponseDtTm', 'OnSceneDtTm', 'TransportDtTm', 'HospitalDtTm', 'CallFinalDisposition', 'AvailableDtTm', 'Address', 'City', 'ZipcodeofIncident', 'Battalion', 'StationArea', 'Box', 'OriginalPriority', 'Priority', 'FinalPriority', 'ALSUnit', 'CallTypeGroup', 'NumberofAlarms', 'UnitType', 'Unitsequenceincalldispatch', 'FirePreventionDistrict', 'SupervisorDistrict', 'NeighborhoodDistrict', 'Location', 'RowID']\n",
      "+----------+------+--------------+--------+----------+----------+--------------------+--------------------+--------------------+--------------------+--------------------+-------------+------------+--------------------+--------------------+--------------------+-------------+-----------------+---------+-----------+----+----------------+--------+-------------+-------+-------------+--------------+--------+--------------------------+----------------------+------------------+--------------------+-------------+--------------------+\n",
      "|CallNumber|UnitID|IncidentNumber|CallType|  CallDate| WatchDate|        ReceivedDtTm|           EntryDtTm|        DispatchDtTm|        ResponseDtTm|         OnSceneDtTm|TransportDtTm|HospitalDtTm|CallFinalDisposition|       AvailableDtTm|             Address|         City|ZipcodeofIncident|Battalion|StationArea| Box|OriginalPriority|Priority|FinalPriority|ALSUnit|CallTypeGroup|NumberofAlarms|UnitType|Unitsequenceincalldispatch|FirePreventionDistrict|SupervisorDistrict|NeighborhoodDistrict|     Location|               RowID|\n",
      "+----------+------+--------------+--------+----------+----------+--------------------+--------------------+--------------------+--------------------+--------------------+-------------+------------+--------------------+--------------------+--------------------+-------------+-----------------+---------+-----------+----+----------------+--------+-------------+-------+-------------+--------------+--------+--------------------------+----------------------+------------------+--------------------+-------------+--------------------+\n",
      "| 210391607|   E19|      21017645|  Alarms|02/08/2021|02/08/2021|02/08/2021 01:00:...|02/08/2021 01:01:...|02/08/2021 01:01:...|02/08/2021 01:03:...|02/08/2021 01:05:...|         null|        null|                Fire|02/08/2021 01:18:...|400 Block of SERR...|San Francisco|            94132|      B08|         19|8581|               3|       3|            3|   true|        Alarm|             1|  ENGINE|                         1|                     8|                 7|           Lakeshore|210391607-E19|POINT (-122.48045...|\n",
      "+----------+------+--------------+--------+----------+----------+--------------------+--------------------+--------------------+--------------------+--------------------+-------------+------------+--------------------+--------------------+--------------------+-------------+-----------------+---------+-----------+----+----------------+--------+-------------+-------+-------------+--------------+--------+--------------------------+----------------------+------------------+--------------------+-------------+--------------------+\n",
      "only showing top 1 row\n",
      "\n",
      "root\n",
      " |-- CallNumber: integer (nullable = true)\n",
      " |-- UnitID: string (nullable = true)\n",
      " |-- IncidentNumber: integer (nullable = true)\n",
      " |-- CallType: string (nullable = true)\n",
      " |-- CallDate: string (nullable = true)\n",
      " |-- WatchDate: string (nullable = true)\n",
      " |-- ReceivedDtTm: string (nullable = true)\n",
      " |-- EntryDtTm: string (nullable = true)\n",
      " |-- DispatchDtTm: string (nullable = true)\n",
      " |-- ResponseDtTm: string (nullable = true)\n",
      " |-- OnSceneDtTm: string (nullable = true)\n",
      " |-- TransportDtTm: string (nullable = true)\n",
      " |-- HospitalDtTm: string (nullable = true)\n",
      " |-- CallFinalDisposition: string (nullable = true)\n",
      " |-- AvailableDtTm: string (nullable = true)\n",
      " |-- Address: string (nullable = true)\n",
      " |-- City: string (nullable = true)\n",
      " |-- ZipcodeofIncident: integer (nullable = true)\n",
      " |-- Battalion: string (nullable = true)\n",
      " |-- StationArea: string (nullable = true)\n",
      " |-- Box: string (nullable = true)\n",
      " |-- OriginalPriority: string (nullable = true)\n",
      " |-- Priority: string (nullable = true)\n",
      " |-- FinalPriority: integer (nullable = true)\n",
      " |-- ALSUnit: boolean (nullable = true)\n",
      " |-- CallTypeGroup: string (nullable = true)\n",
      " |-- NumberofAlarms: integer (nullable = true)\n",
      " |-- UnitType: string (nullable = true)\n",
      " |-- Unitsequenceincalldispatch: integer (nullable = true)\n",
      " |-- FirePreventionDistrict: string (nullable = true)\n",
      " |-- SupervisorDistrict: string (nullable = true)\n",
      " |-- NeighborhoodDistrict: string (nullable = true)\n",
      " |-- Location: string (nullable = true)\n",
      " |-- RowID: string (nullable = true)\n",
      "\n"
     ]
    }
   ],
   "source": [
    "fireSchema = StructType([StructField('CallNumber', IntegerType(), True),\n",
    "                     StructField('UnitID', StringType(), True),\n",
    "                     StructField('IncidentNumber', IntegerType(), True),\n",
    "                     StructField('CallType', StringType(), True),                  \n",
    "                     StructField('CallDate', StringType(), True),       \n",
    "                     StructField('WatchDate', StringType(), True),       \n",
    "                     StructField('ReceivedDtTm', StringType(), True),       \n",
    "                     StructField('EntryDtTm', StringType(), True),       \n",
    "                     StructField('DispatchDtTm', StringType(), True),       \n",
    "                     StructField('ResponseDtTm', StringType(), True),       \n",
    "                     StructField('OnSceneDtTm', StringType(), True),       \n",
    "                     StructField('TransportDtTm', StringType(), True),                  \n",
    "                     StructField('HospitalDtTm', StringType(), True),       \n",
    "                     StructField('CallFinalDisposition', StringType(), True),       \n",
    "                     StructField('AvailableDtTm', StringType(), True),       \n",
    "                     StructField('Address', StringType(), True),       \n",
    "                     StructField('City', StringType(), True),       \n",
    "                     StructField('ZipcodeofIncident', IntegerType(), True),       \n",
    "                     StructField('Battalion', StringType(), True),                 \n",
    "                     StructField('StationArea', StringType(), True),       \n",
    "                     StructField('Box', StringType(), True),       \n",
    "                     StructField('OriginalPriority', StringType(), True),       \n",
    "                     StructField('Priority', StringType(), True),       \n",
    "                     StructField('FinalPriority', IntegerType(), True),       \n",
    "                     StructField('ALSUnit', BooleanType(), True),       \n",
    "                     StructField('CallTypeGroup', StringType(), True),\n",
    "                     StructField('NumberofAlarms', IntegerType(), True),\n",
    "                     StructField('UnitType', StringType(), True),\n",
    "                     StructField('Unitsequenceincalldispatch', IntegerType(), True),\n",
    "                     StructField('FirePreventionDistrict', StringType(), True),\n",
    "                     StructField('SupervisorDistrict', StringType(), True),\n",
    "                     StructField('NeighborhoodDistrict', StringType(), True),\n",
    "                     StructField('Location', StringType(), True),\n",
    "                     StructField('RowID', StringType(), True)])\n",
    "data_path=\"s3a://pengfei/diffusion/data_format/Fire_Department_Calls_for_Service.csv\"\n",
    "df = spark.read.options(delimiter=',').option(\"header\",\"true\").schema(fireSchema).csv(data_path)\n",
    "print(df.columns)\n",
    "df.show(1)\n",
    "df.printSchema()\n",
    "\n"
   ]
  },
  {
   "cell_type": "code",
   "execution_count": null,
   "metadata": {},
   "outputs": [],
   "source": []
  },
  {
   "cell_type": "code",
   "execution_count": 6,
   "metadata": {},
   "outputs": [
    {
     "name": "stdout",
     "output_type": "stream",
     "text": [
      "data frame has 5500519 rows, 34 columns\n",
      "Spark read above data frame in parquet format, and spents: 7.415986061096191 s\n"
     ]
    }
   ],
   "source": [
    "def check_spark_parquet_read_time(path:str)->DataFrame:\n",
    "    t1=time.time()\n",
    "    df=spark.read.parquet(path)\n",
    "    print(f\"data frame has {df.count()} rows, {len(df.columns)} columns\")\n",
    "    t2=time.time()\n",
    "    print(f\"Spark read above data frame in parquet format, and spents: {t2 - t1} s\")\n",
    "    return df\n",
    "\n",
    "# read parquet generated by arrow    \n",
    "df=check_spark_parquet_read_time(parquet_input_path)\n",
    "\n",
    "# df.printSchema()\n",
    "\n",
    "# read parquet generated by spark\n",
    "# check_spark_parquet_read_time(\"s3a://pengfei/diffusion/data_format/netflix.parquet\")"
   ]
  },
  {
   "cell_type": "code",
   "execution_count": 7,
   "metadata": {},
   "outputs": [],
   "source": [
    "def check_spark_csv_write_time(df:DataFrame,path:str):\n",
    "    t1=time.time()\n",
    "    df.coalesce(1).write.option(\"header\",\"true\").csv(path)\n",
    "    print(f\"data frame has {df.count()} rows, {len(df.columns)} columns\")\n",
    "    t2=time.time()\n",
    "    print(f\"Spark read time spents: {t2 - t1} s\")\n",
    "\n",
    "# check_spark_csv_write_time(df,f\"{csv_input_path}/2011_2012\")   \n",
    "\n",
    "def check_spark_csv_read_time(path):\n",
    "    t1=time.time()\n",
    "    df=spark.read.csv(path)\n",
    "    print(f\"data frame has {df.count()} rows, {len(df.columns)} columns\")\n",
    "    t2=time.time()\n",
    "    print(f\"Spark read time spents: {t2 - t1} s\")\n",
    "    return df\n",
    "\n",
    "# df_fire=check_spark_read_csv_time(csv_example)\n"
   ]
  },
  {
   "cell_type": "code",
   "execution_count": 8,
   "metadata": {},
   "outputs": [],
   "source": [
    "def check_spark_parquet_write_time(df,path,partition_number,compression_algo):\n",
    "    t1=time.time()\n",
    "    df.coalesce(partition_number).write \\\n",
    "    .option(\"parquet.compression\",compression_algo) \\\n",
    "    .parquet(path) \n",
    "    t2=time.time()\n",
    "    print(f\"Spark write parquet with {compression_algo} compression, it spents : {t2 - t1} s\")\n",
    " "
   ]
  },
  {
   "cell_type": "markdown",
   "metadata": {},
   "source": [
    "# 1. Spark compression example"
   ]
  },
  {
   "cell_type": "markdown",
   "metadata": {},
   "source": [
    "# 1.1 Spark Compress with gzip"
   ]
  },
  {
   "cell_type": "code",
   "execution_count": 55,
   "metadata": {},
   "outputs": [
    {
     "name": "stdout",
     "output_type": "stream",
     "text": [
      "Spark write parquet with gzip compression, it spents : 74.42315220832825 s\n"
     ]
    }
   ],
   "source": [
    "# Spark write parquet with gzip compression ny 2009, it spents : 327.7600781917572 s\n",
    "\n",
    "comp_algo=\"gzip\"\n",
    "check_spark_parquet_write_time(df,f\"{compress_output_path}/spark_sf_fire_{comp_algo}\",4,comp_algo)\n"
   ]
  },
  {
   "cell_type": "code",
   "execution_count": 25,
   "metadata": {},
   "outputs": [
    {
     "name": "stdout",
     "output_type": "stream",
     "text": [
      "Total Size: 355 MiB\n"
     ]
    }
   ],
   "source": [
    "! mc ls --summarize s3/pengfei/diffusion/data_format/sf_fire/parquet/spark_sf_fire_gzip | grep \"Total Size\""
   ]
  },
  {
   "cell_type": "markdown",
   "metadata": {},
   "source": [
    "## 1.2 Spark compress with snappy"
   ]
  },
  {
   "cell_type": "code",
   "execution_count": 56,
   "metadata": {},
   "outputs": [
    {
     "name": "stdout",
     "output_type": "stream",
     "text": [
      "Spark write parquet with snappy compression, it spents : 50.436259031295776 s\n"
     ]
    }
   ],
   "source": [
    "#Spark write parquet with snappy compression ny 2009, it spents : 210.80829095840454 s\n",
    "\n",
    "comp_algo=\"snappy\"\n",
    "check_spark_parquet_write_time(df,f\"{compress_output_path}/spark_sf_fire_{comp_algo}\",4,comp_algo)\n"
   ]
  },
  {
   "cell_type": "code",
   "execution_count": 57,
   "metadata": {},
   "outputs": [
    {
     "name": "stdout",
     "output_type": "stream",
     "text": [
      "Total Size: 552 MiB\n"
     ]
    }
   ],
   "source": [
    "! mc ls --summarize s3/pengfei/diffusion/data_format/sf_fire/parquet/spark_sf_fire_snappy | grep \"Total Size\""
   ]
  },
  {
   "cell_type": "markdown",
   "metadata": {},
   "source": [
    "## 1.3 Spark Compress with lz4\n",
    "missing lz4 dependencies, but the doc says it's supported by default \n",
    "https://spark.apache.org/docs/latest/sql-data-sources-parquet.html"
   ]
  },
  {
   "cell_type": "code",
   "execution_count": null,
   "metadata": {},
   "outputs": [],
   "source": [
    "comp_algo=\"lz4\"\n",
    "check_spark_parquet_write_time(df,f\"{compress_output_path}/spark_sf_fire_{comp_algo}\",4,comp_algo)"
   ]
  },
  {
   "cell_type": "markdown",
   "metadata": {},
   "source": [
    "## 1.4 Spark compress with lzo\n",
    "missing lzo dependencies, but the doc says it's supported by default \n",
    "https://spark.apache.org/docs/latest/sql-data-sources-parquet.html"
   ]
  },
  {
   "cell_type": "code",
   "execution_count": null,
   "metadata": {},
   "outputs": [],
   "source": [
    "comp_algo=\"lzo\"\n",
    "check_spark_parquet_write_time(df,f\"{compress_output_path}/spark_sf_fire_{comp_algo}\",4,comp_algo)"
   ]
  },
  {
   "cell_type": "markdown",
   "metadata": {},
   "source": [
    "## 1.5 Spark compress with brotli\n",
    "doc says it's not supported by default, so missing brotli dependencies is normal"
   ]
  },
  {
   "cell_type": "code",
   "execution_count": null,
   "metadata": {},
   "outputs": [],
   "source": [
    "comp_algo=\"brotli\"\n",
    "check_spark_parquet_write_time(df,f\"{compress_output_path}/spark_sf_fire_{comp_algo}\",4,comp_algo)"
   ]
  },
  {
   "cell_type": "markdown",
   "metadata": {},
   "source": [
    "## 1.6 Spark compress with zstd\n",
    "doc says it's not supported by default, so missing zstd dependencies is normal"
   ]
  },
  {
   "cell_type": "code",
   "execution_count": null,
   "metadata": {
    "collapsed": false,
    "jupyter": {
     "outputs_hidden": false
    },
    "pycharm": {
     "name": "#%%\n"
    }
   },
   "outputs": [],
   "source": [
    "# zstd is not supported by default\n",
    "comp_algo=\"zstd\"\n",
    "check_spark_parquet_write_time(df,f\"{compress_output_path}/spark_sf_fire_{comp_algo}\",4,comp_algo)"
   ]
  },
  {
   "cell_type": "markdown",
   "metadata": {
    "jupyter": {
     "outputs_hidden": false
    },
    "pycharm": {
     "name": "#%%\n"
    }
   },
   "source": [
    "## 1.7 Spark compress with none"
   ]
  },
  {
   "cell_type": "code",
   "execution_count": 83,
   "metadata": {},
   "outputs": [
    {
     "name": "stdout",
     "output_type": "stream",
     "text": [
      "Spark write parquet with none compression, it spents : 41.00978446006775 s\n"
     ]
    }
   ],
   "source": [
    "# zstd is not supported by default\n",
    "comp_algo=\"none\"\n",
    "check_spark_parquet_write_time(df,f\"{compress_output_path}/spark_sf_fire_{comp_algo}\",4,comp_algo)"
   ]
  },
  {
   "cell_type": "code",
   "execution_count": 84,
   "metadata": {},
   "outputs": [
    {
     "name": "stdout",
     "output_type": "stream",
     "text": [
      "Total Size: 1.1 GiB\n"
     ]
    }
   ],
   "source": [
    "! mc ls --summarize s3/pengfei/diffusion/data_format/sf_fire/parquet/spark_sf_fire_none | grep \"Total Size\""
   ]
  },
  {
   "cell_type": "markdown",
   "metadata": {},
   "source": [
    "## Pyarrow writes parquet with compression\n"
   ]
  },
  {
   "cell_type": "code",
   "execution_count": 9,
   "metadata": {
    "collapsed": false,
    "jupyter": {
     "outputs_hidden": false
    },
    "pycharm": {
     "name": "#%%\n"
    }
   },
   "outputs": [],
   "source": [
    "import pathlib\n",
    "import pandas as pd\n",
    "import pyarrow as pa\n",
    "import pyarrow.parquet as pq\n",
    "import s3fs\n",
    "import os\n",
    "import time"
   ]
  },
  {
   "cell_type": "code",
   "execution_count": 2,
   "metadata": {
    "collapsed": false,
    "jupyter": {
     "outputs_hidden": false
    },
    "pycharm": {
     "name": "#%%\n"
    }
   },
   "outputs": [],
   "source": [
    "# This function reads a parquet data set (partitioned partque files) from s3, and returns an arrow table\n",
    "def read_parquet_from_s3(endpoint: str, bucket_name, path):\n",
    "    url = f\"https://{endpoint}\"\n",
    "    fs = s3fs.S3FileSystem(client_kwargs={'endpoint_url': url})\n",
    "    file_uri = f\"{bucket_name}/{path}\"\n",
    "    str_info = fs.info(file_uri)\n",
    "    print(f\"input file metadata: {str_info}\")\n",
    "    dataset = pq.ParquetDataset(file_uri, filesystem=fs, metadata_nthreads=8)\n",
    "    table = dataset.read()\n",
    "    return table\n",
    "\n",
    "# check read time\n",
    "def check_arrow_read_time(endpoint, bucket, path):\n",
    "    t1 = time.time()\n",
    "    arrow_table=read_parquet_from_s3(endpoint, bucket, path)\n",
    "    t2 = time.time()\n",
    "    print(f\"Arrow read time spents: {t2 - t1} s\")\n",
    "    get_shape(arrow_table)\n",
    "    return arrow_table\n",
    "    \n",
    "# This function reads an arrow table, convert it to a pandas dataframe, then return the shape of the dataframe. \n",
    "def get_shape(table):\n",
    "    df = table.to_pandas()\n",
    "    print(f\"shape of the data set: {df.shape}\")"
   ]
  },
  {
   "cell_type": "code",
   "execution_count": 3,
   "metadata": {},
   "outputs": [],
   "source": [
    "endpoint = os.environ['AWS_S3_ENDPOINT']\n",
    "bucket = \"pengfei\"\n",
    "# don't add / after raw, it will raise error\n",
    "input_path = \"diffusion/data_format/sf_fire/parquet/raw\""
   ]
  },
  {
   "cell_type": "code",
   "execution_count": 4,
   "metadata": {},
   "outputs": [
    {
     "name": "stdout",
     "output_type": "stream",
     "text": [
      "input file metadata: {'Key': 'pengfei/diffusion/data_format/sf_fire/parquet/raw', 'name': 'pengfei/diffusion/data_format/sf_fire/parquet/raw', 'type': 'directory', 'Size': 0, 'size': 0, 'StorageClass': 'DIRECTORY'}\n",
      "Arrow read time spents: 7.463285446166992 s\n",
      "shape of the data set: (5500519, 34)\n"
     ]
    }
   ],
   "source": [
    "arrow_table=check_arrow_read_time(endpoint,bucket, input_path)"
   ]
  },
  {
   "cell_type": "code",
   "execution_count": 5,
   "metadata": {},
   "outputs": [
    {
     "name": "stdout",
     "output_type": "stream",
     "text": [
      "   CallNumber UnitID  IncidentNumber CallType    CallDate   WatchDate  \\\n",
      "0   210391607    E19        21017645   Alarms  02/08/2021  02/08/2021   \n",
      "1   210391164    T04        21017596   Alarms  02/08/2021  02/08/2021   \n",
      "\n",
      "             ReceivedDtTm               EntryDtTm            DispatchDtTm  \\\n",
      "0  02/08/2021 01:00:14 PM  02/08/2021 01:01:36 PM  02/08/2021 01:01:40 PM   \n",
      "1  02/08/2021 10:54:56 AM  02/08/2021 10:56:50 AM  02/08/2021 10:56:57 AM   \n",
      "\n",
      "             ResponseDtTm  ... ALSUnit CallTypeGroup NumberofAlarms UnitType  \\\n",
      "0  02/08/2021 01:03:21 PM  ...    True         Alarm              1   ENGINE   \n",
      "1  02/08/2021 10:57:07 AM  ...   False         Alarm              1    TRUCK   \n",
      "\n",
      "  Unitsequenceincalldispatch FirePreventionDistrict SupervisorDistrict  \\\n",
      "0                        1.0                      8                  7   \n",
      "1                        1.0                      3                  6   \n",
      "\n",
      "   NeighborhoodDistrict       Location  \\\n",
      "0             Lakeshore  210391607-E19   \n",
      "1           Mission Bay  210391164-T04   \n",
      "\n",
      "                                           RowID  \n",
      "0   POINT (-122.48045074945836 37.7190118676788)  \n",
      "1  POINT (-122.39227179213904 37.77288298280324)  \n",
      "\n",
      "[2 rows x 34 columns]\n"
     ]
    }
   ],
   "source": [
    "pdf=arrow_table.to_pandas()\n",
    "print(pdf.head(2))"
   ]
  },
  {
   "cell_type": "code",
   "execution_count": 9,
   "metadata": {},
   "outputs": [],
   "source": [
    "# This function write an arrow table to s3 as parquet files, you can specify a compression type\n",
    "# compression (str or dict) – Specify the compression codec, either on a general basis or per-column. \n",
    "# Valid values: {‘NONE’, ‘SNAPPY’, ‘GZIP’, ‘BROTLI’, ‘LZ4’, ‘ZSTD’}.\n",
    "# default is snappy.\n",
    "\n",
    "def write_parquet_as_partitioned_dataset(table, endpoint, bucket_name, path, partition_cols=None, compression=\"SNAPPY\"):\n",
    "    url = f\"https://{endpoint}\"\n",
    "    fs = s3fs.S3FileSystem(client_kwargs={'endpoint_url': url})\n",
    "    file_uri = f\"{bucket_name}/{path}\"\n",
    "    pq.write_to_dataset(table, root_path=file_uri, partition_cols=partition_cols, filesystem=fs, compression=compression)\n",
    "    \n",
    "# check write time\n",
    "def check_write_time(table, endpoint, bucket_name, path, partition_cols=None, compression=\"SNAPPY\"):\n",
    "    t1=time.time()\n",
    "    write_parquet_as_partitioned_dataset(table, endpoint, bucket_name, path, partition_cols,compression=compression)\n",
    "    t2=time.time()\n",
    "    print(f\"Arrow write time spents: {t2 - t1} s\")"
   ]
  },
  {
   "cell_type": "code",
   "execution_count": 11,
   "metadata": {},
   "outputs": [
    {
     "name": "stdout",
     "output_type": "stream",
     "text": [
      "Arrow write time spents: 37.47578525543213 s\n"
     ]
    }
   ],
   "source": [
    "output_path=f\"diffusion/data_format/sf_fire/parquet/arrow_sf_fire_snappy\"\n",
    "check_write_time(arrow_table,endpoint,bucket,output_path)"
   ]
  },
  {
   "cell_type": "code",
   "execution_count": 10,
   "metadata": {},
   "outputs": [
    {
     "name": "stdout",
     "output_type": "stream",
     "text": [
      "Total Size: 596 MiB\n"
     ]
    }
   ],
   "source": [
    "! mc ls --summarize s3/pengfei/diffusion/data_format/sf_fire/parquet/arrow_sf_fire_snappy | grep \"Total Size\""
   ]
  },
  {
   "cell_type": "code",
   "execution_count": 12,
   "metadata": {},
   "outputs": [
    {
     "name": "stdout",
     "output_type": "stream",
     "text": [
      "Arrow write time spents: 29.63837957382202 s\n"
     ]
    }
   ],
   "source": [
    "output_path=\"diffusion/data_format/sf_fire/parquet/arrow_sf_fire_zstd\"\n",
    "check_write_time(arrow_table,endpoint,bucket,output_path,compression=\"ZSTD\")"
   ]
  },
  {
   "cell_type": "code",
   "execution_count": 13,
   "metadata": {},
   "outputs": [
    {
     "name": "stdout",
     "output_type": "stream",
     "text": [
      "Total Size: 385 MiB\n"
     ]
    }
   ],
   "source": [
    "! mc ls --summarize s3/pengfei/diffusion/data_format/sf_fire/parquet/arrow_sf_fire_zstd | grep \"Total Size\""
   ]
  },
  {
   "cell_type": "code",
   "execution_count": 14,
   "metadata": {},
   "outputs": [
    {
     "name": "stdout",
     "output_type": "stream",
     "text": [
      "Arrow write time spents: 138.10498523712158 s\n"
     ]
    }
   ],
   "source": [
    "output_path=\"diffusion/data_format/sf_fire/parquet/arrow_sf_fire_gzip\"\n",
    "check_write_time(arrow_table,endpoint,bucket,output_path,compression=\"GZIP\")"
   ]
  },
  {
   "cell_type": "code",
   "execution_count": 15,
   "metadata": {},
   "outputs": [
    {
     "name": "stdout",
     "output_type": "stream",
     "text": [
      "Total Size: 372 MiB\n"
     ]
    }
   ],
   "source": [
    "! mc ls --summarize s3/pengfei/diffusion/data_format/sf_fire/parquet/arrow_sf_fire_gzip | grep \"Total Size\""
   ]
  },
  {
   "cell_type": "code",
   "execution_count": 16,
   "metadata": {},
   "outputs": [
    {
     "name": "stdout",
     "output_type": "stream",
     "text": [
      "Arrow write time spents: 38.89105200767517 s\n"
     ]
    }
   ],
   "source": [
    "output_path=\"diffusion/data_format/sf_fire/parquet/arrow_sf_fire_lz4\"\n",
    "check_write_time(arrow_table,endpoint,bucket,output_path,compression=\"LZ4\")"
   ]
  },
  {
   "cell_type": "code",
   "execution_count": 17,
   "metadata": {},
   "outputs": [
    {
     "name": "stdout",
     "output_type": "stream",
     "text": [
      "Total Size: 589 MiB\n"
     ]
    }
   ],
   "source": [
    "! mc ls --summarize s3/pengfei/diffusion/data_format/sf_fire/parquet/arrow_sf_fire_lz4 | grep \"Total Size\""
   ]
  },
  {
   "cell_type": "code",
   "execution_count": 8,
   "metadata": {},
   "outputs": [
    {
     "name": "stdout",
     "output_type": "stream",
     "text": [
      "Arrow write time spents: 163.5519528388977 s\n"
     ]
    }
   ],
   "source": [
    "output_path=\"diffusion/data_format/sf_fire/parquet/arrow_sf_fire_brotli\"\n",
    "check_write_time(arrow_table,endpoint,bucket,output_path,compression=\"BROTLI\")"
   ]
  },
  {
   "cell_type": "code",
   "execution_count": 9,
   "metadata": {},
   "outputs": [
    {
     "name": "stdout",
     "output_type": "stream",
     "text": [
      "Total Size: 332 MiB\n"
     ]
    }
   ],
   "source": [
    "! mc ls --summarize s3/pengfei/diffusion/data_format/sf_fire/parquet/arrow_sf_fire_brotli | grep \"Total Size\""
   ]
  },
  {
   "cell_type": "code",
   "execution_count": 10,
   "metadata": {},
   "outputs": [
    {
     "name": "stdout",
     "output_type": "stream",
     "text": [
      "Arrow write time spents: 72.52444410324097 s\n"
     ]
    }
   ],
   "source": [
    "output_path=\"diffusion/data_format/sf_fire/parquet/arrow_sf_fire_none\"\n",
    "check_write_time(arrow_table,endpoint,bucket,output_path,compression=\"NONE\")"
   ]
  },
  {
   "cell_type": "code",
   "execution_count": 11,
   "metadata": {},
   "outputs": [
    {
     "name": "stdout",
     "output_type": "stream",
     "text": [
      "Total Size: 1.3 GiB\n"
     ]
    }
   ],
   "source": [
    "! mc ls --summarize s3/pengfei/diffusion/data_format/sf_fire/parquet/arrow_sf_fire_none | grep \"Total Size\""
   ]
  },
  {
   "cell_type": "markdown",
   "metadata": {},
   "source": [
    "## Overall time lantency and size comparison\n",
    "\n",
    "You can reproduce the pyarrow and spark stats inside this notebook. To reproduce the R arrow stats, you can use this https://raw.githubusercontent.com/pengfei99/ParquetPyArrow/main/R/ArrowCompression.Rmd   "
   ]
  },
  {
   "cell_type": "code",
   "execution_count": 17,
   "metadata": {},
   "outputs": [
    {
     "name": "stdout",
     "output_type": "stream",
     "text": [
      "+---------+----------------+----------------+----+\n",
      "|framework|compression_type|compression_time|size|\n",
      "+---------+----------------+----------------+----+\n",
      "|  pyarrow|            none|           72.52|1312|\n",
      "|  pyarrow|          brotli|          163.55| 332|\n",
      "|  pyarrow|             lz4|           38.89| 589|\n",
      "|  pyarrow|            gzip|          138.10| 372|\n",
      "|    spark|            gzip|           74.42| 355|\n",
      "|    spark|          snappy|           50.43| 552|\n",
      "|  pyarrow|            zstd|           29.63| 385|\n",
      "|  pyarrow|          snappy|           37.47| 596|\n",
      "|    spark|            none|              41|1129|\n",
      "|   Rarrow|            none|           59.06|1318|\n",
      "|   Rarrow|          snappy|           55.43| 596|\n",
      "|   Rarrow|            gzip|          123.14| 372|\n",
      "|   Rarrow|             lz4|           54.88| 589|\n",
      "|   Rarrow|            zstd|           52.78| 385|\n",
      "|   Rarrow|          brotli|          132.65| 332|\n",
      "+---------+----------------+----------------+----+\n",
      "\n"
     ]
    }
   ],
   "source": [
    "# Spark, Arrow compression performence comparession\n",
    "path=\"s3a://pengfei/diffusion/data_format/compression_stats.csv\"\n",
    "stats_df=spark.read.option(\"header\",\"true\").csv(path)\n",
    "stats_df.show()\n",
    "\n",
    "# The raw CSV file takes 1918 MiB to store the same data."
   ]
  },
  {
   "cell_type": "code",
   "execution_count": 18,
   "metadata": {},
   "outputs": [
    {
     "data": {
      "text/plain": [
       "Text(0, 0.5, 'Size (MiB)')"
      ]
     },
     "execution_count": 18,
     "metadata": {},
     "output_type": "execute_result"
    },
    {
     "data": {
      "image/png": "[encoded data removed]",
      "text/plain": [
       "<Figure size 720x576 with 2 Axes>"
      ]
     },
     "metadata": {
      "needs_background": "light"
     },
     "output_type": "display_data"
    }
   ],
   "source": [
    "import seaborn as sns\n",
    "import matplotlib.pyplot as plt\n",
    "fig, ax = plt.subplots(1,2,figsize = (10,8))\n",
    "g_op = sns.barplot(\n",
    "    data=stats_df.toPandas(),\n",
    "    x=\"compression_type\", y=\"compression_time\", hue=\"framework\",\n",
    "    order=['none','snappy','gzip','lz4','zstd','brotli'], ax=ax[0]\n",
    ")\n",
    "g_op.set_ylabel(\"Time (Seconds)\", fontsize = 10)\n",
    "\n",
    "g_op = sns.barplot(\n",
    "    data=stats_df.toPandas(),\n",
    "    x=\"compression_type\", y=\"size\", hue=\"framework\",\n",
    "    order=['none','snappy','gzip','lz4','zstd','brotli'], ax=ax[1]\n",
    ")\n",
    "g_op.set_ylabel(\"Size (MiB)\", fontsize = 10)"
   ]
  },
  {
   "cell_type": "markdown",
   "metadata": {},
   "source": [
    "# Arrow compression and dictionary encoding by column\n",
    "Arrow allows us to specify compression and dictionary codec per column when write to a parquet file\n",
    "spark does not, spark can only specify a global compression and dicionary codec for all columns.\n",
    "\n",
    "pq.write_table(table, where, compression={'foo': 'snappy', 'bar': 'gzip'}, use_dictionary=['foo', 'bar'])\n",
    "\n",
    "# Spark read mix compression, \n",
    "\n",
    "Below test proves that spark can read correctly parquet files that has mixed compression algorithm.\n"
   ]
  },
  {
   "cell_type": "code",
   "execution_count": 10,
   "metadata": {},
   "outputs": [],
   "source": [
    "url = f\"https://{endpoint}\"\n",
    "fs = s3fs.S3FileSystem(client_kwargs={'endpoint_url': url})\n",
    "path=\"diffusion/data_format/sf_fire/parquet/arrow_mix_compression\"\n",
    "file_uri = f\"{bucket}/{path}\"\n",
    "pq.write_table(arrow_table, file_uri, filesystem=fs, compression={\"UnitID\":\"SNAPPY\",\"NumberofAlarms\":\"GZIP\"})"
   ]
  },
  {
   "cell_type": "code",
   "execution_count": 18,
   "metadata": {},
   "outputs": [
    {
     "name": "stdout",
     "output_type": "stream",
     "text": [
      "data frame has 5500519 rows, 34 columns\n",
      "Spark read above data frame in parquet format, and spents: 1.7260215282440186 s\n"
     ]
    }
   ],
   "source": [
    "path=\"s3a://pengfei/diffusion/data_format/sf_fire/parquet/arrow_mix_compression\"\n",
    "df=check_spark_parquet_read_time(path)"
   ]
  },
  {
   "cell_type": "code",
   "execution_count": 20,
   "metadata": {},
   "outputs": [
    {
     "name": "stdout",
     "output_type": "stream",
     "text": [
      "+----------+------+--------------+--------+----------+----------+--------------------+--------------------+--------------------+--------------------+--------------------+-------------+------------+--------------------+--------------------+--------------------+-------------+-----------------+---------+-----------+----+----------------+--------+-------------+-------+-------------+--------------+--------+--------------------------+----------------------+------------------+--------------------+-------------+--------------------+\n",
      "|CallNumber|UnitID|IncidentNumber|CallType|  CallDate| WatchDate|        ReceivedDtTm|           EntryDtTm|        DispatchDtTm|        ResponseDtTm|         OnSceneDtTm|TransportDtTm|HospitalDtTm|CallFinalDisposition|       AvailableDtTm|             Address|         City|ZipcodeofIncident|Battalion|StationArea| Box|OriginalPriority|Priority|FinalPriority|ALSUnit|CallTypeGroup|NumberofAlarms|UnitType|Unitsequenceincalldispatch|FirePreventionDistrict|SupervisorDistrict|NeighborhoodDistrict|     Location|               RowID|\n",
      "+----------+------+--------------+--------+----------+----------+--------------------+--------------------+--------------------+--------------------+--------------------+-------------+------------+--------------------+--------------------+--------------------+-------------+-----------------+---------+-----------+----+----------------+--------+-------------+-------+-------------+--------------+--------+--------------------------+----------------------+------------------+--------------------+-------------+--------------------+\n",
      "| 210391607|   E19|      21017645|  Alarms|02/08/2021|02/08/2021|02/08/2021 01:00:...|02/08/2021 01:01:...|02/08/2021 01:01:...|02/08/2021 01:03:...|02/08/2021 01:05:...|         null|        null|                Fire|02/08/2021 01:18:...|400 Block of SERR...|San Francisco|            94132|      B08|         19|8581|               3|       3|            3|   true|        Alarm|             1|  ENGINE|                         1|                     8|                 7|           Lakeshore|210391607-E19|POINT (-122.48045...|\n",
      "| 210391164|   T04|      21017596|  Alarms|02/08/2021|02/08/2021|02/08/2021 10:54:...|02/08/2021 10:56:...|02/08/2021 10:56:...|02/08/2021 10:57:...|02/08/2021 10:59:...|         null|        null|                Fire|02/08/2021 11:06:...|600 Block of LONG...|San Francisco|            94158|      B03|         04|2264|               3|       3|            3|  false|        Alarm|             1|   TRUCK|                         1|                     3|                 6|         Mission Bay|210391164-T04|POINT (-122.39227...|\n",
      "+----------+------+--------------+--------+----------+----------+--------------------+--------------------+--------------------+--------------------+--------------------+-------------+------------+--------------------+--------------------+--------------------+-------------+-----------------+---------+-----------+----+----------------+--------+-------------+-------+-------------+--------------+--------+--------------------------+----------------------+------------------+--------------------+-------------+--------------------+\n",
      "only showing top 2 rows\n",
      "\n"
     ]
    }
   ],
   "source": [
    "df.show(2)"
   ]
  },
  {
   "cell_type": "code",
   "execution_count": 19,
   "metadata": {},
   "outputs": [
    {
     "name": "stdout",
     "output_type": "stream",
     "text": [
      "['CallNumber', 'UnitID', 'IncidentNumber', 'CallType', 'CallDate', 'WatchDate', 'ReceivedDtTm', 'EntryDtTm', 'DispatchDtTm', 'ResponseDtTm', 'OnSceneDtTm', 'TransportDtTm', 'HospitalDtTm', 'CallFinalDisposition', 'AvailableDtTm', 'Address', 'City', 'ZipcodeofIncident', 'Battalion', 'StationArea', 'Box', 'OriginalPriority', 'Priority', 'FinalPriority', 'ALSUnit', 'CallTypeGroup', 'NumberofAlarms', 'UnitType', 'Unitsequenceincalldispatch', 'FirePreventionDistrict', 'SupervisorDistrict', 'NeighborhoodDistrict', 'Location', 'RowID']\n"
     ]
    }
   ],
   "source": [
    "print(df.columns)"
   ]
  },
  {
   "cell_type": "markdown",
   "metadata": {},
   "source": [
    "# Check spark read zstd failed\n",
    "The check failed, our spark does not have the zstd lib installed"
   ]
  },
  {
   "cell_type": "code",
   "execution_count": null,
   "metadata": {},
   "outputs": [],
   "source": [
    "path=\"s3a://pengfei/diffusion/data_format/sf_fire/parquet/arrow_sf_fire_zstd\"\n",
    "df=check_spark_parquet_read_time(path)\n",
    "df.show()"
   ]
  },
  {
   "cell_type": "markdown",
   "metadata": {},
   "source": [
    "# Check spark read brotli failed\n",
    "The check failed, our spark does not have the brotli lib installed"
   ]
  },
  {
   "cell_type": "code",
   "execution_count": null,
   "metadata": {},
   "outputs": [],
   "source": [
    "path=\"s3a://pengfei/diffusion/data_format/sf_fire/parquet/arrow_sf_fire_brotli\"\n",
    "df=check_spark_parquet_read_time(path)\n",
    "df.show()"
   ]
  },
  {
   "cell_type": "markdown",
   "metadata": {},
   "source": [
    "# Check spark read lz4 failed\n",
    "The check failed, our spark does not have the lz4 lib installed"
   ]
  },
  {
   "cell_type": "code",
   "execution_count": null,
   "metadata": {},
   "outputs": [],
   "source": [
    "path=\"s3a://pengfei/diffusion/data_format/sf_fire/parquet/arrow_sf_fire_lz4\"\n",
    "df=check_spark_parquet_read_time(path)\n",
    "df.show()"
   ]
  },
  {
   "cell_type": "markdown",
   "metadata": {},
   "source": [
    "# Pyarrow Read parquet file generated by spark "
   ]
  },
  {
   "cell_type": "code",
   "execution_count": 32,
   "metadata": {},
   "outputs": [],
   "source": [
    "spark_parquet_path1 = \"diffusion/data_format/sf_fire/parquet/spark_sf_fire_gzip\"\n",
    "spark_parquet_path2 = \"diffusion/data_format/sf_fire/parquet/spark_sf_fire_snappy\"\n",
    "spark_parquet_path3 = \"/home/jovyan/work/spark_sf_fire_gzip/part-00000-a908eedc-847b-45e2-803a-6c4a07438b4a-c000.gz.parquet\""
   ]
  },
  {
   "cell_type": "markdown",
   "metadata": {},
   "source": [
    "## Arrow read spark gzip"
   ]
  },
  {
   "cell_type": "code",
   "execution_count": 35,
   "metadata": {},
   "outputs": [
    {
     "name": "stdout",
     "output_type": "stream",
     "text": [
      "input file metadata: {'name': 'pengfei/diffusion/data_format/sf_fire/parquet/spark_sf_fire_gzip', 'size': 0, 'type': 'directory'}\n",
      "Arrow read time spents: 7.748699426651001 s\n",
      "shape of the data set: (5500519, 34)\n"
     ]
    }
   ],
   "source": [
    "table1=check_arrow_read_time(endpoint,bucket, spark_parquet_path1)"
   ]
  },
  {
   "cell_type": "markdown",
   "metadata": {},
   "source": [
    "## Arrow read spark snappy"
   ]
  },
  {
   "cell_type": "code",
   "execution_count": 34,
   "metadata": {},
   "outputs": [
    {
     "name": "stdout",
     "output_type": "stream",
     "text": [
      "input file metadata: {'name': 'pengfei/diffusion/data_format/sf_fire/parquet/spark_sf_fire_snappy', 'size': 0, 'type': 'directory'}\n",
      "Arrow read time spents: 11.924895763397217 s\n",
      "shape of the data set: (5500519, 34)\n"
     ]
    }
   ],
   "source": [
    "table2=check_arrow_read_time(endpoint,bucket, spark_parquet_path2)"
   ]
  },
  {
   "cell_type": "markdown",
   "metadata": {},
   "source": [
    "# Check default parquet format version generated by spark "
   ]
  },
  {
   "cell_type": "code",
   "execution_count": 27,
   "metadata": {},
   "outputs": [],
   "source": [
    "def get_metadata(path: str):\n",
    "    metadata=pq.read_metadata(path)\n",
    "    # get the metadata of the parquet file\n",
    "    print(f\"General metadata: {metadata} \\n\")\n",
    "    # get the metadata of the row group 0\n",
    "    print(f\"Metadata of row group 0: {metadata.row_group(0)}\\n\")\n",
    "    # get the metadata of the column 0 of row group 0\n",
    "    print(f\"Metadata of column 0 of row group 0: {metadata.row_group(0).column(0)}\")\n"
   ]
  },
  {
   "cell_type": "code",
   "execution_count": 28,
   "metadata": {},
   "outputs": [
    {
     "name": "stdout",
     "output_type": "stream",
     "text": [
      "General metadata: <pyarrow._parquet.FileMetaData object at 0x7f9aa0454fb0>\n",
      "  created_by: parquet-mr version 1.10.1 (build a89df8f9932b6ef6633d06069e50c9b7970bebd1)\n",
      "  num_columns: 34\n",
      "  num_rows: 1486336\n",
      "  num_row_groups: 1\n",
      "  format_version: 1.0\n",
      "  serialized_size: 6810 \n",
      "\n",
      "Metadata of row group 0: <pyarrow._parquet.RowGroupMetaData object at 0x7f9aa0456230>\n",
      "  num_columns: 34\n",
      "  num_rows: 1486336\n",
      "  total_byte_size: 356445213\n",
      "\n",
      "Metadata of column 0 of row group 0: <pyarrow._parquet.ColumnChunkMetaData object at 0x7f9aa0456290>\n",
      "  file_offset: 4\n",
      "  file_path: \n",
      "  physical_type: INT32\n",
      "  num_values: 1486336\n",
      "  path_in_schema: CallNumber\n",
      "  is_stats_set: True\n",
      "  statistics:\n",
      "    <pyarrow._parquet.Statistics object at 0x7f9aa04562f0>\n",
      "      has_min_max: True\n",
      "      min: 1030101\n",
      "      max: 210630242\n",
      "      null_count: 0\n",
      "      distinct_count: 0\n",
      "      num_values: 1486336\n",
      "      physical_type: INT32\n",
      "      logical_type: None\n",
      "      converted_type (legacy): NONE\n",
      "  compression: GZIP\n",
      "  encodings: ('PLAIN', 'RLE', 'BIT_PACKED')\n",
      "  has_dictionary_page: False\n",
      "  dictionary_page_offset: None\n",
      "  data_page_offset: 4\n",
      "  total_compressed_size: 4239044\n",
      "  total_uncompressed_size: 5945703\n"
     ]
    }
   ],
   "source": [
    "# in below metadata, we get the parquet format version is 1.0.\n",
    "# So by default, spark write parquet in version 1.0\n",
    "get_metadata(spark_parquet_path2)"
   ]
  },
  {
   "cell_type": "code",
   "execution_count": 17,
   "metadata": {},
   "outputs": [],
   "source": []
  },
  {
   "cell_type": "code",
   "execution_count": null,
   "metadata": {},
   "outputs": [],
   "source": []
  },
  {
   "cell_type": "code",
   "execution_count": null,
   "metadata": {},
   "outputs": [],
   "source": []
  }
 ],
 "metadata": {
  "kernelspec": {
   "display_name": "Python 3",
   "language": "python",
   "name": "python3"
  },
  "language_info": {
   "codemirror_mode": {
    "name": "ipython",
    "version": 3
   },
   "file_extension": ".py",
   "mimetype": "text/x-python",
   "name": "python",
   "nbconvert_exporter": "python",
   "pygments_lexer": "ipython3",
   "version": "3.7.6"
  }
 },
 "nbformat": 4,
 "nbformat_minor": 4
}
