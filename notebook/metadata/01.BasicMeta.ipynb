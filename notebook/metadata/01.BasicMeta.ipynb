{
 "cells": [
  {
   "cell_type": "code",
   "execution_count": 1,
   "metadata": {
    "collapsed": true
   },
   "outputs": [],
   "source": [
    "import pyarrow.parquet as pq\n",
    "import pyarrow as pa\n",
    "import pandas as pd"
   ]
  },
  {
   "cell_type": "markdown",
   "source": [
    "# 1. Add Custom metadata in parquet\n",
    "\n",
    "In this tutorial, we will add some custom metadata into parquet file."
   ],
   "metadata": {
    "collapsed": false,
    "pycharm": {
     "name": "#%% md\n"
    }
   }
  },
  {
   "cell_type": "markdown",
   "source": [
    "## 1.1 Pandas dataframe use case\n",
    "\n",
    "Data source is a pandas dataframe, convert it to pyarrow table, then write to parquet file"
   ],
   "metadata": {
    "collapsed": false,
    "pycharm": {
     "name": "#%% md\n"
    }
   }
  },
  {
   "cell_type": "code",
   "execution_count": 4,
   "outputs": [],
   "source": [
    "data={\n",
    "    'name': [\"Alice\", \"Bob\", \"Charlie\", \"Foo\"],\n",
    "    'age': [20, 21, 22, 23],\n",
    "    'sex': [\"F\",\"M\",\"M\",\"F\"]\n",
    "}"
   ],
   "metadata": {
    "collapsed": false,
    "pycharm": {
     "name": "#%%\n"
    }
   }
  },
  {
   "cell_type": "code",
   "execution_count": 5,
   "outputs": [],
   "source": [
    "df=pd.DataFrame.from_dict(data)"
   ],
   "metadata": {
    "collapsed": false,
    "pycharm": {
     "name": "#%%\n"
    }
   }
  },
  {
   "cell_type": "code",
   "execution_count": 6,
   "outputs": [
    {
     "data": {
      "text/plain": "      name  age sex\n0    Alice   20   F\n1      Bob   21   M\n2  Charlie   22   M\n3      Foo   23   F",
      "text/html": "<div>\n<style scoped>\n    .dataframe tbody tr th:only-of-type {\n        vertical-align: middle;\n    }\n\n    .dataframe tbody tr th {\n        vertical-align: top;\n    }\n\n    .dataframe thead th {\n        text-align: right;\n    }\n</style>\n<table border=\"1\" class=\"dataframe\">\n  <thead>\n    <tr style=\"text-align: right;\">\n      <th></th>\n      <th>name</th>\n      <th>age</th>\n      <th>sex</th>\n    </tr>\n  </thead>\n  <tbody>\n    <tr>\n      <th>0</th>\n      <td>Alice</td>\n      <td>20</td>\n      <td>F</td>\n    </tr>\n    <tr>\n      <th>1</th>\n      <td>Bob</td>\n      <td>21</td>\n      <td>M</td>\n    </tr>\n    <tr>\n      <th>2</th>\n      <td>Charlie</td>\n      <td>22</td>\n      <td>M</td>\n    </tr>\n    <tr>\n      <th>3</th>\n      <td>Foo</td>\n      <td>23</td>\n      <td>F</td>\n    </tr>\n  </tbody>\n</table>\n</div>"
     },
     "execution_count": 6,
     "metadata": {},
     "output_type": "execute_result"
    }
   ],
   "source": [
    "df.head()"
   ],
   "metadata": {
    "collapsed": false,
    "pycharm": {
     "name": "#%%\n"
    }
   }
  },
  {
   "cell_type": "markdown",
   "source": [
    "## Check default metadata\n",
    "\n",
    "Convert pandas dataframe to pyarrow table"
   ],
   "metadata": {
    "collapsed": false,
    "pycharm": {
     "name": "#%% md\n"
    }
   }
  },
  {
   "cell_type": "code",
   "execution_count": 7,
   "outputs": [],
   "source": [
    "table = pa.Table.from_pandas(df)"
   ],
   "metadata": {
    "collapsed": false,
    "pycharm": {
     "name": "#%%\n"
    }
   }
  },
  {
   "cell_type": "code",
   "execution_count": 8,
   "outputs": [
    {
     "name": "stdout",
     "output_type": "stream",
     "text": [
      "{b'pandas': b'{\"index_columns\": [{\"kind\": \"range\", \"name\": null, \"start\": 0, \"stop\": 4, \"step\": 1}], \"column_indexes\": [{\"name\": null, \"field_name\": null, \"pandas_type\": \"unicode\", \"numpy_type\": \"object\", \"metadata\": {\"encoding\": \"UTF-8\"}}], \"columns\": [{\"name\": \"name\", \"field_name\": \"name\", \"pandas_type\": \"unicode\", \"numpy_type\": \"object\", \"metadata\": null}, {\"name\": \"age\", \"field_name\": \"age\", \"pandas_type\": \"int64\", \"numpy_type\": \"int64\", \"metadata\": null}, {\"name\": \"sex\", \"field_name\": \"sex\", \"pandas_type\": \"unicode\", \"numpy_type\": \"object\", \"metadata\": null}], \"creator\": {\"library\": \"pyarrow\", \"version\": \"7.0.0\"}, \"pandas_version\": \"1.4.2\"}'}\n"
     ]
    }
   ],
   "source": [
    "# let's see if there are some default metadata\n",
    "print(table.schema.metadata)"
   ],
   "metadata": {
    "collapsed": false,
    "pycharm": {
     "name": "#%%\n"
    }
   }
  },
  {
   "cell_type": "markdown",
   "source": [
    "In the above output, we can notice, it contains one metadata, where the key is **\"pandas\"**, the value is a **dictionary**. Note they are both in byte.\n",
    "\n",
    "In fact, pyarrow will use this metadata if we want to convert the table back to pandas dataframe"
   ],
   "metadata": {
    "collapsed": false,
    "pycharm": {
     "name": "#%% md\n"
    }
   }
  },
  {
   "cell_type": "markdown",
   "source": [
    "## Add custom metadata\n",
    "\n",
    " As we know that **Arrow tables are immutable**. So we need to construct a new Arrow table if we want to add custom metadata. The metadata of the new table will be a combination of the existing metadata and the custom metadata which we want to add.\n",
    "\n",
    "As we know the metadata is in **type byte**. So we need to convert the key, value paire to byte too."
   ],
   "metadata": {
    "collapsed": false,
    "pycharm": {
     "name": "#%% md\n"
    }
   }
  },
  {
   "cell_type": "code",
   "execution_count": 10,
   "outputs": [],
   "source": [
    "origin_meta=table.schema.metadata\n",
    "my_meta_key=\"data_provider\"\n",
    "my_meta_value=\"Pengfei liu\"\n",
    "new_meta = {\n",
    "    my_meta_key.encode() : my_meta_value.encode(),\n",
    "    **origin_meta\n",
    "}"
   ],
   "metadata": {
    "collapsed": false,
    "pycharm": {
     "name": "#%%\n"
    }
   }
  },
  {
   "cell_type": "code",
   "execution_count": null,
   "outputs": [],
   "source": [
    "new_table = table.replace_schema_metadata(new_meta)"
   ],
   "metadata": {
    "collapsed": false,
    "pycharm": {
     "name": "#%%\n"
    }
   }
  },
  {
   "cell_type": "markdown",
   "source": [
    "In newer version of pyarrow, for the string type we don't need to convert it by our self, pyarrow will do the conversion for us automatically.\n",
    "\n",
    "Check below example, the key is string, the value is int"
   ],
   "metadata": {
    "collapsed": false,
    "pycharm": {
     "name": "#%% md\n"
    }
   }
  },
  {
   "cell_type": "code",
   "execution_count": 43,
   "outputs": [],
   "source": [
    "my_meta_key1=\"data_version\"\n",
    "my_meta_value1=\"1\"\n",
    "str_meta = {\n",
    "    my_meta_key1 : my_meta_value1,\n",
    "    **origin_meta\n",
    "}"
   ],
   "metadata": {
    "collapsed": false,
    "pycharm": {
     "name": "#%%\n"
    }
   }
  },
  {
   "cell_type": "code",
   "execution_count": 44,
   "outputs": [],
   "source": [
    "new_table1=table.replace_schema_metadata(str_meta)"
   ],
   "metadata": {
    "collapsed": false,
    "pycharm": {
     "name": "#%%\n"
    }
   }
  },
  {
   "cell_type": "markdown",
   "source": [
    "Now let's check the newly added meta"
   ],
   "metadata": {
    "collapsed": false,
    "pycharm": {
     "name": "#%% md\n"
    }
   }
  },
  {
   "cell_type": "code",
   "execution_count": 46,
   "outputs": [
    {
     "name": "stdout",
     "output_type": "stream",
     "text": [
      "{b'data_provider': b'Pengfei liu', b'pandas': b'{\"index_columns\": [{\"kind\": \"range\", \"name\": null, \"start\": 0, \"stop\": 4, \"step\": 1}], \"column_indexes\": [{\"name\": null, \"field_name\": null, \"pandas_type\": \"unicode\", \"numpy_type\": \"object\", \"metadata\": {\"encoding\": \"UTF-8\"}}], \"columns\": [{\"name\": \"name\", \"field_name\": \"name\", \"pandas_type\": \"unicode\", \"numpy_type\": \"object\", \"metadata\": null}, {\"name\": \"age\", \"field_name\": \"age\", \"pandas_type\": \"int64\", \"numpy_type\": \"int64\", \"metadata\": null}, {\"name\": \"sex\", \"field_name\": \"sex\", \"pandas_type\": \"unicode\", \"numpy_type\": \"object\", \"metadata\": null}], \"creator\": {\"library\": \"pyarrow\", \"version\": \"7.0.0\"}, \"pandas_version\": \"1.4.2\"}'}\n"
     ]
    }
   ],
   "source": [
    "# manual byte conversion\n",
    "print(new_table.schema.metadata)"
   ],
   "metadata": {
    "collapsed": false,
    "pycharm": {
     "name": "#%%\n"
    }
   }
  },
  {
   "cell_type": "code",
   "execution_count": 45,
   "outputs": [
    {
     "name": "stdout",
     "output_type": "stream",
     "text": [
      "{b'data_version': b'1', b'pandas': b'{\"index_columns\": [{\"kind\": \"range\", \"name\": null, \"start\": 0, \"stop\": 4, \"step\": 1}], \"column_indexes\": [{\"name\": null, \"field_name\": null, \"pandas_type\": \"unicode\", \"numpy_type\": \"object\", \"metadata\": {\"encoding\": \"UTF-8\"}}], \"columns\": [{\"name\": \"name\", \"field_name\": \"name\", \"pandas_type\": \"unicode\", \"numpy_type\": \"object\", \"metadata\": null}, {\"name\": \"age\", \"field_name\": \"age\", \"pandas_type\": \"int64\", \"numpy_type\": \"int64\", \"metadata\": null}, {\"name\": \"sex\", \"field_name\": \"sex\", \"pandas_type\": \"unicode\", \"numpy_type\": \"object\", \"metadata\": null}], \"creator\": {\"library\": \"pyarrow\", \"version\": \"7.0.0\"}, \"pandas_version\": \"1.4.2\"}'}\n"
     ]
    }
   ],
   "source": [
    "# auto conversion\n",
    "print(new_table1.schema.metadata)"
   ],
   "metadata": {
    "collapsed": false,
    "pycharm": {
     "name": "#%%\n"
    }
   }
  },
  {
   "cell_type": "markdown",
   "source": [
    "### check other type for key value\n",
    "\n",
    "In this section, we will test other type for key value."
   ],
   "metadata": {
    "collapsed": false,
    "pycharm": {
     "name": "#%% md\n"
    }
   }
  },
  {
   "cell_type": "code",
   "execution_count": 65,
   "outputs": [],
   "source": [
    "my_meta_key2=\"data_version\"\n",
    "my_meta_value2=1\n",
    "int_meta = {\n",
    "    my_meta_key2 : my_meta_value2.to_bytes(2, byteorder='big'),\n",
    "    **origin_meta\n",
    "}"
   ],
   "metadata": {
    "collapsed": false,
    "pycharm": {
     "name": "#%%\n"
    }
   }
  },
  {
   "cell_type": "code",
   "execution_count": 66,
   "outputs": [],
   "source": [
    "new_table2=table.replace_schema_metadata(int_meta)"
   ],
   "metadata": {
    "collapsed": false,
    "pycharm": {
     "name": "#%%\n"
    }
   }
  },
  {
   "cell_type": "code",
   "execution_count": 67,
   "outputs": [
    {
     "name": "stdout",
     "output_type": "stream",
     "text": [
      "{b'data_version': b'\\x00\\x01', b'pandas': b'{\"index_columns\": [{\"kind\": \"range\", \"name\": null, \"start\": 0, \"stop\": 4, \"step\": 1}], \"column_indexes\": [{\"name\": null, \"field_name\": null, \"pandas_type\": \"unicode\", \"numpy_type\": \"object\", \"metadata\": {\"encoding\": \"UTF-8\"}}], \"columns\": [{\"name\": \"name\", \"field_name\": \"name\", \"pandas_type\": \"unicode\", \"numpy_type\": \"object\", \"metadata\": null}, {\"name\": \"age\", \"field_name\": \"age\", \"pandas_type\": \"int64\", \"numpy_type\": \"int64\", \"metadata\": null}, {\"name\": \"sex\", \"field_name\": \"sex\", \"pandas_type\": \"unicode\", \"numpy_type\": \"object\", \"metadata\": null}], \"creator\": {\"library\": \"pyarrow\", \"version\": \"7.0.0\"}, \"pandas_version\": \"1.4.2\"}'}\n"
     ]
    }
   ],
   "source": [
    "print(new_table2.schema.metadata)"
   ],
   "metadata": {
    "collapsed": false,
    "pycharm": {
     "name": "#%%\n"
    }
   }
  },
  {
   "cell_type": "code",
   "execution_count": 68,
   "outputs": [
    {
     "name": "stdout",
     "output_type": "stream",
     "text": [
      "the data_version is : 1\n"
     ]
    }
   ],
   "source": [
    "raw_value=new_table2.schema.metadata[my_meta_key2.encode()]\n",
    "value=int.from_bytes(raw_value, \"big\")\n",
    "print(f\"the data_version is : {value}\")"
   ],
   "metadata": {
    "collapsed": false,
    "pycharm": {
     "name": "#%%\n"
    }
   }
  },
  {
   "cell_type": "markdown",
   "source": [
    "Conclusion, the key value paire are type byte. In theory, they can take any serializable type. But you can see if you don't know the origin type, when you convert the byte back to his origin type, you will have troubles. So we don't recommend you to use any type other than string."
   ],
   "metadata": {
    "collapsed": false,
    "pycharm": {
     "name": "#%% md\n"
    }
   }
  },
  {
   "cell_type": "markdown",
   "source": [
    "## Test multiple metadata\n",
    "\n",
    "In below example, we will test multi key value. And if we have duplicate key, what will happen?"
   ],
   "metadata": {
    "collapsed": false,
    "pycharm": {
     "name": "#%% md\n"
    }
   }
  },
  {
   "cell_type": "code",
   "execution_count": 70,
   "outputs": [],
   "source": [
    "my_meta_key3=\"key3\"\n",
    "my_meta_value3=\"value3\"\n",
    "multi_meta = {\n",
    "    my_meta_key : my_meta_value,\n",
    "    my_meta_key1 : my_meta_value1,\n",
    "    my_meta_key2 : my_meta_value2.to_bytes(2, byteorder='big'),\n",
    "    my_meta_key3 : my_meta_value3,\n",
    "    **origin_meta\n",
    "}"
   ],
   "metadata": {
    "collapsed": false,
    "pycharm": {
     "name": "#%%\n"
    }
   }
  },
  {
   "cell_type": "code",
   "execution_count": 71,
   "outputs": [],
   "source": [
    "new_table3=table.replace_schema_metadata(multi_meta)"
   ],
   "metadata": {
    "collapsed": false,
    "pycharm": {
     "name": "#%%\n"
    }
   }
  },
  {
   "cell_type": "code",
   "execution_count": 72,
   "outputs": [
    {
     "name": "stdout",
     "output_type": "stream",
     "text": [
      "{b'data_provider': b'toto', b'data_version': b'\\x00\\x01', b'key3': b'value3', b'pandas': b'{\"index_columns\": [{\"kind\": \"range\", \"name\": null, \"start\": 0, \"stop\": 4, \"step\": 1}], \"column_indexes\": [{\"name\": null, \"field_name\": null, \"pandas_type\": \"unicode\", \"numpy_type\": \"object\", \"metadata\": {\"encoding\": \"UTF-8\"}}], \"columns\": [{\"name\": \"name\", \"field_name\": \"name\", \"pandas_type\": \"unicode\", \"numpy_type\": \"object\", \"metadata\": null}, {\"name\": \"age\", \"field_name\": \"age\", \"pandas_type\": \"int64\", \"numpy_type\": \"int64\", \"metadata\": null}, {\"name\": \"sex\", \"field_name\": \"sex\", \"pandas_type\": \"unicode\", \"numpy_type\": \"object\", \"metadata\": null}], \"creator\": {\"library\": \"pyarrow\", \"version\": \"7.0.0\"}, \"pandas_version\": \"1.4.2\"}'}\n"
     ]
    }
   ],
   "source": [
    "print(new_table3.schema.metadata)"
   ],
   "metadata": {
    "collapsed": false,
    "pycharm": {
     "name": "#%%\n"
    }
   }
  },
  {
   "cell_type": "markdown",
   "source": [
    "In the above output, you can notice that the second value(toto) for data_provider overwrites the first value(Pengfei Liu). So if we enter duplicate key in metadata, the latest value will overwrite the existing value."
   ],
   "metadata": {
    "collapsed": false,
    "pycharm": {
     "name": "#%% md\n"
    }
   }
  },
  {
   "cell_type": "markdown",
   "source": [
    "## Write the table to parquet\n"
   ],
   "metadata": {
    "collapsed": false,
    "pycharm": {
     "name": "#%% md\n"
    }
   }
  },
  {
   "cell_type": "code",
   "execution_count": 3,
   "outputs": [],
   "source": [
    "output_path=\"../../data/custom_meta.parquet\"\n",
    "compression_algo='GZIP'"
   ],
   "metadata": {
    "collapsed": false,
    "pycharm": {
     "name": "#%%\n"
    }
   }
  },
  {
   "cell_type": "code",
   "execution_count": 18,
   "outputs": [],
   "source": [
    "pq.write_table(new_table, output_path, compression=compression_algo)"
   ],
   "metadata": {
    "collapsed": false,
    "pycharm": {
     "name": "#%%\n"
    }
   }
  },
  {
   "cell_type": "markdown",
   "source": [
    "## Read meta data from the parquet file\n",
    "\n",
    "Note custom metadata is only a part of the parquet metadata. The main part of the metadata is generated automatically to manage the row group, column chunk, stats, etc.\n",
    "\n",
    "Below example shows how to get the main metadata"
   ],
   "metadata": {
    "collapsed": false,
    "pycharm": {
     "name": "#%% md\n"
    }
   }
  },
  {
   "cell_type": "code",
   "execution_count": 4,
   "outputs": [],
   "source": [
    "pf=pq.ParquetFile(output_path)"
   ],
   "metadata": {
    "collapsed": false,
    "pycharm": {
     "name": "#%%\n"
    }
   }
  },
  {
   "cell_type": "code",
   "execution_count": 5,
   "outputs": [
    {
     "name": "stdout",
     "output_type": "stream",
     "text": [
      "<pyarrow._parquet.FileMetaData object at 0x7f1057066f90>\n",
      "  created_by: parquet-cpp-arrow version 7.0.0\n",
      "  num_columns: 3\n",
      "  num_rows: 4\n",
      "  num_row_groups: 1\n",
      "  format_version: 1.0\n",
      "  serialized_size: 2326\n"
     ]
    }
   ],
   "source": [
    "# get the main metadata\n",
    "print(pf.metadata)"
   ],
   "metadata": {
    "collapsed": false,
    "pycharm": {
     "name": "#%%\n"
    }
   }
  },
  {
   "cell_type": "code",
   "execution_count": 11,
   "outputs": [
    {
     "name": "stdout",
     "output_type": "stream",
     "text": [
      "<pyarrow._parquet.RowGroupMetaData object at 0x7f1056fd3360>\n",
      "  num_columns: 3\n",
      "  num_rows: 4\n",
      "  total_byte_size: 268\n"
     ]
    }
   ],
   "source": [
    "# get metadata of row group\n",
    "print(pf.metadata.row_group(0))"
   ],
   "metadata": {
    "collapsed": false,
    "pycharm": {
     "name": "#%%\n"
    }
   }
  },
  {
   "cell_type": "code",
   "execution_count": 12,
   "outputs": [
    {
     "name": "stdout",
     "output_type": "stream",
     "text": [
      "<pyarrow._parquet.ColumnChunkMetaData object at 0x7f1056ccb3b0>\n",
      "  file_offset: 129\n",
      "  file_path: \n",
      "  physical_type: BYTE_ARRAY\n",
      "  num_values: 4\n",
      "  path_in_schema: name\n",
      "  is_stats_set: True\n",
      "  statistics:\n",
      "    <pyarrow._parquet.Statistics object at 0x7f1056ccbd10>\n",
      "      has_min_max: True\n",
      "      min: Alice\n",
      "      max: Foo\n",
      "      null_count: 0\n",
      "      distinct_count: 0\n",
      "      num_values: 4\n",
      "      physical_type: BYTE_ARRAY\n",
      "      logical_type: String\n",
      "      converted_type (legacy): UTF8\n",
      "  compression: GZIP\n",
      "  encodings: ('PLAIN_DICTIONARY', 'PLAIN', 'RLE')\n",
      "  has_dictionary_page: True\n",
      "  dictionary_page_offset: 4\n",
      "  data_page_offset: 66\n",
      "  total_compressed_size: 125\n",
      "  total_uncompressed_size: 91\n"
     ]
    }
   ],
   "source": [
    "# get metadata of column chunk\n",
    "print(pf.metadata.row_group(0).column(0))"
   ],
   "metadata": {
    "collapsed": false,
    "pycharm": {
     "name": "#%%\n"
    }
   }
  },
  {
   "cell_type": "code",
   "execution_count": 15,
   "outputs": [
    {
     "name": "stdout",
     "output_type": "stream",
     "text": [
      "<pyarrow._parquet.Statistics object at 0x7f1056cee450>\n",
      "  has_min_max: True\n",
      "  min: 20\n",
      "  max: 23\n",
      "  null_count: 0\n",
      "  distinct_count: 0\n",
      "  num_values: 4\n",
      "  physical_type: INT64\n",
      "  logical_type: None\n",
      "  converted_type (legacy): NONE\n"
     ]
    }
   ],
   "source": [
    "# get the statistic of column 0\n",
    "print(pf.metadata.row_group(0).column(1).statistics)"
   ],
   "metadata": {
    "collapsed": false,
    "pycharm": {
     "name": "#%%\n"
    }
   }
  },
  {
   "cell_type": "code",
   "execution_count": 6,
   "outputs": [
    {
     "name": "stdout",
     "output_type": "stream",
     "text": [
      "<pyarrow._parquet.ParquetSchema object at 0x7f1057135b40>\n",
      "required group field_id=-1 schema {\n",
      "  optional binary field_id=-1 name (String);\n",
      "  optional int64 field_id=-1 age;\n",
      "  optional binary field_id=-1 sex (String);\n",
      "}\n",
      "\n"
     ]
    }
   ],
   "source": [
    "# get the schema\n",
    "print(pf.schema)"
   ],
   "metadata": {
    "collapsed": false,
    "pycharm": {
     "name": "#%%\n"
    }
   }
  },
  {
   "cell_type": "code",
   "execution_count": 8,
   "outputs": [
    {
     "name": "stdout",
     "output_type": "stream",
     "text": [
      "name: string\n",
      "age: int64\n",
      "sex: string\n",
      "-- schema metadata --\n",
      "data_provider: 'Pengfei liu'\n",
      "pandas: '{\"index_columns\": [{\"kind\": \"range\", \"name\": null, \"start\": 0, \"' + 575\n"
     ]
    }
   ],
   "source": [
    "# get the custom metadata\n",
    "print(pf.schema_arrow)"
   ],
   "metadata": {
    "collapsed": false,
    "pycharm": {
     "name": "#%%\n"
    }
   }
  },
  {
   "cell_type": "markdown",
   "source": [
    "You can notice in the above output, the metadata returned by schema_arrow is inferred (official doc: https://arrow.apache.org/docs/python/generated/pyarrow.parquet.ParquetFile.html) from and not complete.\n",
    "\n",
    "To get the complete raw custom metadata, we need to use the table object."
   ],
   "metadata": {
    "collapsed": false,
    "pycharm": {
     "name": "#%% md\n"
    }
   }
  },
  {
   "cell_type": "code",
   "execution_count": 9,
   "outputs": [],
   "source": [
    "read_table=pq.read_table(output_path)"
   ],
   "metadata": {
    "collapsed": false,
    "pycharm": {
     "name": "#%%\n"
    }
   }
  },
  {
   "cell_type": "code",
   "execution_count": 10,
   "outputs": [
    {
     "name": "stdout",
     "output_type": "stream",
     "text": [
      "{b'data_provider': b'Pengfei liu', b'pandas': b'{\"index_columns\": [{\"kind\": \"range\", \"name\": null, \"start\": 0, \"stop\": 4, \"step\": 1}], \"column_indexes\": [{\"name\": null, \"field_name\": null, \"pandas_type\": \"unicode\", \"numpy_type\": \"object\", \"metadata\": {\"encoding\": \"UTF-8\"}}], \"columns\": [{\"name\": \"name\", \"field_name\": \"name\", \"pandas_type\": \"unicode\", \"numpy_type\": \"object\", \"metadata\": null}, {\"name\": \"age\", \"field_name\": \"age\", \"pandas_type\": \"int64\", \"numpy_type\": \"int64\", \"metadata\": null}, {\"name\": \"sex\", \"field_name\": \"sex\", \"pandas_type\": \"unicode\", \"numpy_type\": \"object\", \"metadata\": null}], \"creator\": {\"library\": \"pyarrow\", \"version\": \"7.0.0\"}, \"pandas_version\": \"1.4.2\"}'}\n"
     ]
    }
   ],
   "source": [
    "print(read_table.schema.metadata)"
   ],
   "metadata": {
    "collapsed": false,
    "pycharm": {
     "name": "#%%\n"
    }
   }
  },
  {
   "cell_type": "markdown",
   "source": [
    "With the above output, we are sure that we can get the custom metadata\n",
    "\n",
    "Let's try if we can get the specific metadata value with the key"
   ],
   "metadata": {
    "collapsed": false,
    "pycharm": {
     "name": "#%% md\n"
    }
   }
  },
  {
   "cell_type": "code",
   "execution_count": 22,
   "outputs": [
    {
     "name": "stdout",
     "output_type": "stream",
     "text": [
      "The key: b'data_provider', The value: b'Pengfei liu'\n"
     ]
    }
   ],
   "source": [
    "key_byte=my_meta_key.encode()\n",
    "print(f\"The key: {key_byte}, The value: {read_table.schema.metadata[key_byte]}\")"
   ],
   "metadata": {
    "collapsed": false,
    "pycharm": {
     "name": "#%%\n"
    }
   }
  },
  {
   "cell_type": "code",
   "execution_count": null,
   "outputs": [],
   "source": [],
   "metadata": {
    "collapsed": false,
    "pycharm": {
     "name": "#%%\n"
    }
   }
  }
 ],
 "metadata": {
  "kernelspec": {
   "display_name": "Python 3",
   "language": "python",
   "name": "python3"
  },
  "language_info": {
   "codemirror_mode": {
    "name": "ipython",
    "version": 2
   },
   "file_extension": ".py",
   "mimetype": "text/x-python",
   "name": "python",
   "nbconvert_exporter": "python",
   "pygments_lexer": "ipython2",
   "version": "2.7.6"
  }
 },
 "nbformat": 4,
 "nbformat_minor": 0
}