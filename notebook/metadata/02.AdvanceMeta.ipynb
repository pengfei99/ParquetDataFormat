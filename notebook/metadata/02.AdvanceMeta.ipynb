{
 "cells": [
  {
   "cell_type": "code",
   "execution_count": 27,
   "metadata": {
    "collapsed": true
   },
   "outputs": [],
   "source": [
    "import pyarrow.csv as pv\n",
    "import pyarrow.parquet as pq\n",
    "import pyarrow as pa\n",
    "import json"
   ]
  },
  {
   "cell_type": "markdown",
   "source": [
    "# Column level metadata\n",
    "We know that Metadata can be written to Parquet files or columns. Note the schema(contains metadata) is defined in the footer of the parquet file.\n",
    "In BasicMeta, we have seen how to add table level custom metadata. In this section, we will see how to add column level metadata\n"
   ],
   "metadata": {
    "collapsed": false,
    "pycharm": {
     "name": "#%% md\n"
    }
   }
  },
  {
   "cell_type": "code",
   "execution_count": 11,
   "outputs": [],
   "source": [
    "source_file_path=\"../../data/source.csv\""
   ],
   "metadata": {
    "collapsed": false,
    "pycharm": {
     "name": "#%%\n"
    }
   }
  },
  {
   "cell_type": "code",
   "execution_count": 12,
   "outputs": [],
   "source": [
    "raw_table = pv.read_csv(source_file_path)"
   ],
   "metadata": {
    "collapsed": false,
    "pycharm": {
     "name": "#%%\n"
    }
   }
  },
  {
   "cell_type": "markdown",
   "source": [
    "##  Table schema\n",
    "we can define table schema which contains column level custom metadata"
   ],
   "metadata": {
    "collapsed": false,
    "pycharm": {
     "name": "#%% md\n"
    }
   }
  },
  {
   "cell_type": "code",
   "execution_count": 13,
   "outputs": [],
   "source": [
    "\n",
    "my_schema = pa.schema(\n",
    "    [pa.field(\"name\", pa.string(), False, metadata={\"description\": \"the name of user\"}),\n",
    "     pa.field(\"age\", pa.int64(), True, metadata={\"description\": \"the age of user at year 2000\"}),\n",
    "     pa.field(\"sex\", pa.string(), False, metadata={\"description\": \"the sex of user. Value must be F or M\"}),\n",
    "     ],\n",
    "    # table level custom meta\n",
    "    metadata={\"data_provider\": \"toto\",\n",
    "              \"version\":\"1\",\n",
    "              'collect_date': '2020-10-17T03:59:59+0000'\n",
    "              }\n",
    ")\n"
   ],
   "metadata": {
    "collapsed": false,
    "pycharm": {
     "name": "#%%\n"
    }
   }
  },
  {
   "cell_type": "code",
   "execution_count": 14,
   "outputs": [],
   "source": [
    "table = raw_table.cast(my_schema)"
   ],
   "metadata": {
    "collapsed": false,
    "pycharm": {
     "name": "#%%\n"
    }
   }
  },
  {
   "cell_type": "code",
   "execution_count": 15,
   "outputs": [],
   "source": [
    "output_path=\"../../data/colum_custom_meta.parquet\""
   ],
   "metadata": {
    "collapsed": false,
    "pycharm": {
     "name": "#%%\n"
    }
   }
  },
  {
   "cell_type": "code",
   "execution_count": 16,
   "outputs": [],
   "source": [
    "pq.write_table(table, output_path)"
   ],
   "metadata": {
    "collapsed": false,
    "pycharm": {
     "name": "#%%\n"
    }
   }
  },
  {
   "cell_type": "markdown",
   "source": [
    "## Read parquet file metadata\n",
    "\n",
    "We will try two ways to get the metadata\n",
    "1. Use ParquetFile method\n",
    "2. Use read_table"
   ],
   "metadata": {
    "collapsed": false,
    "pycharm": {
     "name": "#%% md\n"
    }
   }
  },
  {
   "cell_type": "markdown",
   "source": [
    "### Use ParquetFile method"
   ],
   "metadata": {
    "collapsed": false,
    "pycharm": {
     "name": "#%% md\n"
    }
   }
  },
  {
   "cell_type": "code",
   "execution_count": 22,
   "outputs": [],
   "source": [
    "pf=pq.ParquetFile(output_path)"
   ],
   "metadata": {
    "collapsed": false,
    "pycharm": {
     "name": "#%%\n"
    }
   }
  },
  {
   "cell_type": "code",
   "execution_count": 23,
   "outputs": [
    {
     "name": "stdout",
     "output_type": "stream",
     "text": [
      "name: string not null\n",
      "  -- field metadata --\n",
      "  description: 'the name of user'\n",
      "age: int64\n",
      "  -- field metadata --\n",
      "  description: 'the age of user at year 2000'\n",
      "sex: string not null\n",
      "  -- field metadata --\n",
      "  description: 'the sex of user. Value must be F or M'\n",
      "-- schema metadata --\n",
      "data_provider: 'toto'\n",
      "version: '1'\n",
      "collect_date: '2020-10-17T03:59:59+0000'\n"
     ]
    }
   ],
   "source": [
    "print(pf.schema_arrow)"
   ],
   "metadata": {
    "collapsed": false,
    "pycharm": {
     "name": "#%%\n"
    }
   }
  },
  {
   "cell_type": "markdown",
   "source": [
    "### Use read_table"
   ],
   "metadata": {
    "collapsed": false,
    "pycharm": {
     "name": "#%% md\n"
    }
   }
  },
  {
   "cell_type": "code",
   "execution_count": 18,
   "outputs": [],
   "source": [
    "parquet_schema = pq.read_table(output_path).schema"
   ],
   "metadata": {
    "collapsed": false,
    "pycharm": {
     "name": "#%%\n"
    }
   }
  },
  {
   "cell_type": "code",
   "execution_count": 19,
   "outputs": [
    {
     "name": "stdout",
     "output_type": "stream",
     "text": [
      "{b'data_provider': b'toto', b'version': b'1', b'collect_date': b'2020-10-17T03:59:59+0000'}\n"
     ]
    }
   ],
   "source": [
    "# You can notice that we can only get table level metadata with this field\n",
    "print(parquet_schema.metadata)"
   ],
   "metadata": {
    "collapsed": false,
    "pycharm": {
     "name": "#%%\n"
    }
   }
  },
  {
   "cell_type": "code",
   "execution_count": 25,
   "outputs": [
    {
     "name": "stdout",
     "output_type": "stream",
     "text": [
      "{b'description': b'the name of user'}\n",
      "{b'description': b'the age of user at year 2000'}\n",
      "{b'description': b'the sex of user. Value must be F or M'}\n"
     ]
    }
   ],
   "source": [
    "# To get the column level metadata, we need to use field method to get the column first\n",
    "col_list=[\"name\",\"age\",\"sex\"]\n",
    "for col_name in col_list:\n",
    "    print(parquet_schema.field(col_name).metadata)"
   ],
   "metadata": {
    "collapsed": false,
    "pycharm": {
     "name": "#%%\n"
    }
   }
  },
  {
   "cell_type": "markdown",
   "source": [
    "# Json file as metadata value\n",
    "\n",
    "Even though we can add any type in metadata key, value paire, we recommend to use string. As a result, if you want to use a json file as metadata, we recommend you to convert it into json string first. Below code shows an example"
   ],
   "metadata": {
    "collapsed": false,
    "pycharm": {
     "name": "#%% md\n"
    }
   }
  },
  {
   "cell_type": "code",
   "execution_count": 34,
   "outputs": [
    {
     "name": "stdout",
     "output_type": "stream",
     "text": [
      "{b'data_provider': b'toto', b'version': b'1', b'collect_date': b'2020-10-17T03:59:59+0000'}\n"
     ]
    }
   ],
   "source": [
    "# read the parquet file and get the exising metadata\n",
    "table=pq.read_table(output_path)\n",
    "existing_meta = table.schema.metadata\n",
    "print(existing_meta)"
   ],
   "metadata": {
    "collapsed": false,
    "pycharm": {
     "name": "#%%\n"
    }
   }
  },
  {
   "cell_type": "code",
   "execution_count": 36,
   "outputs": [
    {
     "name": "stdout",
     "output_type": "stream",
     "text": [
      "<class 'str'>\n",
      "{\"data_provider\": \"\\u9e4f\\u98de\", \"version\": \"2\", \"collect_date\": \"2022-10-17T03:59:59+0000\"}\n"
     ]
    }
   ],
   "source": [
    "# prepare json metadata value\n",
    "dict_meta_content = {\n",
    "    'data_provider': '鹏飞',\n",
    "    'version': '2',\n",
    "    'collect_date': '2022-10-17T03:59:59+0000'  # ISO-8601\n",
    "}\n",
    "meta_val=json.dumps(dict_meta_content)\n",
    "print(type(meta_val))\n",
    "print(meta_val)"
   ],
   "metadata": {
    "collapsed": false,
    "pycharm": {
     "name": "#%%\n"
    }
   }
  },
  {
   "cell_type": "code",
   "execution_count": 42,
   "outputs": [],
   "source": [
    "# build new metadata by adding json string\n",
    "meta_key=\"json_meta\"\n",
    "new_meta={\n",
    "    meta_key:meta_val.encode(),\n",
    "    **existing_meta\n",
    "}"
   ],
   "metadata": {
    "collapsed": false,
    "pycharm": {
     "name": "#%%\n"
    }
   }
  },
  {
   "cell_type": "code",
   "execution_count": 38,
   "outputs": [],
   "source": [
    "json_table = table.replace_schema_metadata(new_meta)"
   ],
   "metadata": {
    "collapsed": false,
    "pycharm": {
     "name": "#%%\n"
    }
   }
  },
  {
   "cell_type": "markdown",
   "source": [
    "## Write to parquet"
   ],
   "metadata": {
    "collapsed": false,
    "pycharm": {
     "name": "#%% md\n"
    }
   }
  },
  {
   "cell_type": "code",
   "execution_count": 39,
   "outputs": [],
   "source": [
    "json_parquet_output_path=\"../../data/json_custom_meta.parquet\""
   ],
   "metadata": {
    "collapsed": false,
    "pycharm": {
     "name": "#%%\n"
    }
   }
  },
  {
   "cell_type": "code",
   "execution_count": 40,
   "outputs": [],
   "source": [
    "pq.write_table(json_table,json_parquet_output_path)"
   ],
   "metadata": {
    "collapsed": false,
    "pycharm": {
     "name": "#%%\n"
    }
   }
  },
  {
   "cell_type": "markdown",
   "source": [
    "## Read metadata"
   ],
   "metadata": {
    "collapsed": false,
    "pycharm": {
     "name": "#%% md\n"
    }
   }
  },
  {
   "cell_type": "code",
   "execution_count": 43,
   "outputs": [],
   "source": [
    "json_meta_table=pq.read_table(json_parquet_output_path)"
   ],
   "metadata": {
    "collapsed": false,
    "pycharm": {
     "name": "#%%\n"
    }
   }
  },
  {
   "cell_type": "code",
   "execution_count": 44,
   "outputs": [],
   "source": [
    "json_meta_val=json_meta_table.schema.metadata[meta_key.encode()]"
   ],
   "metadata": {
    "collapsed": false,
    "pycharm": {
     "name": "#%%\n"
    }
   }
  },
  {
   "cell_type": "code",
   "execution_count": 45,
   "outputs": [
    {
     "name": "stdout",
     "output_type": "stream",
     "text": [
      "{'data_provider': '鹏飞', 'version': '2', 'collect_date': '2022-10-17T03:59:59+0000'}\n"
     ]
    }
   ],
   "source": [
    "print(json.loads(json_meta_val))"
   ],
   "metadata": {
    "collapsed": false,
    "pycharm": {
     "name": "#%%\n"
    }
   }
  },
  {
   "cell_type": "code",
   "execution_count": null,
   "outputs": [],
   "source": [],
   "metadata": {
    "collapsed": false,
    "pycharm": {
     "name": "#%%\n"
    }
   }
  }
 ],
 "metadata": {
  "kernelspec": {
   "display_name": "Python 3",
   "language": "python",
   "name": "python3"
  },
  "language_info": {
   "codemirror_mode": {
    "name": "ipython",
    "version": 2
   },
   "file_extension": ".py",
   "mimetype": "text/x-python",
   "name": "python",
   "nbconvert_exporter": "python",
   "pygments_lexer": "ipython2",
   "version": "2.7.6"
  }
 },
 "nbformat": 4,
 "nbformat_minor": 0
}